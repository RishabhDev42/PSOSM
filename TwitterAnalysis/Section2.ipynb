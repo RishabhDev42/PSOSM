{
  "nbformat": 4,
  "nbformat_minor": 0,
  "metadata": {
    "colab": {
      "name": "Homework2_Section2.ipynb",
      "provenance": []
    },
    "kernelspec": {
      "name": "python3",
      "display_name": "Python 3"
    },
    "language_info": {
      "name": "python"
    }
  },
  "cells": [
    {
      "cell_type": "markdown",
      "metadata": {
        "id": "e2yMiN7ToKh2"
      },
      "source": [
        "# **Section 2**"
      ]
    },
    {
      "cell_type": "code",
      "metadata": {
        "id": "V72XIl0Pm5Fh"
      },
      "source": [
        "import sys, tweepy\n",
        "import pandas as pd\n",
        "import csv\n",
        "import re\n",
        "import plotly.graph_objects as gr\n",
        "import plotly.express as px\n",
        "import statistics\n",
        "import numpy as np\n",
        "import tqdm\n",
        "import random\n",
        "import time"
      ],
      "execution_count": 1,
      "outputs": []
    },
    {
      "cell_type": "code",
      "metadata": {
        "colab": {
          "base_uri": "https://localhost:8080/"
        },
        "id": "IKhqOuEanFea",
        "outputId": "82754073-fc2a-4d76-e910-752d257f420a"
      },
      "source": [
        "from google.colab import drive\n",
        "drive.mount('/content/drive')"
      ],
      "execution_count": 2,
      "outputs": [
        {
          "output_type": "stream",
          "text": [
            "Drive already mounted at /content/drive; to attempt to forcibly remount, call drive.mount(\"/content/drive\", force_remount=True).\n"
          ],
          "name": "stdout"
        }
      ]
    },
    {
      "cell_type": "code",
      "metadata": {
        "id": "9t3SSahhnNP7"
      },
      "source": [
        "df = pd.read_csv('/content/drive/MyDrive/PSOSMpvt/Twitter.txt', delimiter = \"\\t\", names=['text'])"
      ],
      "execution_count": 3,
      "outputs": []
    },
    {
      "cell_type": "code",
      "metadata": {
        "id": "JgQId9QKnQ5h"
      },
      "source": [
        "credLst=[]\n",
        "for i in df.text:\n",
        "  credLst.append(str(i))\n",
        "for i in range(len(credLst)):\n",
        "  credLst[i]=credLst[i].split()[-1]\n",
        "# credLst"
      ],
      "execution_count": 4,
      "outputs": []
    },
    {
      "cell_type": "code",
      "metadata": {
        "colab": {
          "base_uri": "https://localhost:8080/"
        },
        "id": "sB6mi_Y9nRwN",
        "outputId": "b7c3b6da-f696-4a1c-99eb-977078a5e85a"
      },
      "source": [
        "auth=tweepy.OAuthHandler(credLst[0],credLst[1])\n",
        "auth.set_access_token(credLst[3],credLst[4])\n",
        "api=tweepy.API(auth)\n",
        "if (not api):\n",
        "    print(\"Authentication failed\")\n",
        "else:\n",
        "    print(\"Authentication successful\")"
      ],
      "execution_count": 5,
      "outputs": [
        {
          "output_type": "stream",
          "text": [
            "Authentication successful\n"
          ],
          "name": "stdout"
        }
      ]
    },
    {
      "cell_type": "code",
      "metadata": {
        "id": "2aVk1J1Onq1u"
      },
      "source": [
        "arrTrends=tweepy.Cursor(api.search,q=\"CoronaSecondWave\",lang=\"en\",tweet_mode='extended').items(2000)"
      ],
      "execution_count": 6,
      "outputs": []
    },
    {
      "cell_type": "code",
      "metadata": {
        "colab": {
          "base_uri": "https://localhost:8080/"
        },
        "id": "GoDMaR1OVeV8",
        "outputId": "649e4b2d-dda8-4a12-d7c7-c4ff3be3bf31"
      },
      "source": [
        "type(arrTrends)"
      ],
      "execution_count": 7,
      "outputs": [
        {
          "output_type": "execute_result",
          "data": {
            "text/plain": [
              "tweepy.cursor.ItemIterator"
            ]
          },
          "metadata": {
            "tags": []
          },
          "execution_count": 7
        }
      ]
    },
    {
      "cell_type": "code",
      "metadata": {
        "id": "H-S1eRai6z3P"
      },
      "source": [
        "idData=[]\n",
        "arrTweets=[]\n",
        "while True:\n",
        "  try:\n",
        "    temp=arrTrends.next()\n",
        "    arrTweets.append(temp)\n",
        "  except tweepy.TweepError:\n",
        "    time.sleep(60*15)\n",
        "    continue\n",
        "  except StopIteration:\n",
        "    break\n",
        "for i in arrTweets:\n",
        "  idData.append(i.id_str)"
      ],
      "execution_count": 8,
      "outputs": []
    },
    {
      "cell_type": "code",
      "metadata": {
        "id": "SxyvcivP9kkU"
      },
      "source": [
        "with open('/content/drive/MyDrive/PSOSMpvt/data2HW2.txt','w') as file:\n",
        "  for items in idData:\n",
        "    file.write('%s\\n' %items)"
      ],
      "execution_count": 9,
      "outputs": []
    },
    {
      "cell_type": "code",
      "metadata": {
        "id": "mvq3VEYWAdpn"
      },
      "source": [
        "def insertDict(dictThis, item):\n",
        "  if item in dictThis:\n",
        "    dictThis[item]+=1\n",
        "  else:\n",
        "    dictThis[item]=1"
      ],
      "execution_count": 10,
      "outputs": []
    },
    {
      "cell_type": "code",
      "metadata": {
        "id": "pGEj9pZjA8bK"
      },
      "source": [
        "def sortDict(humUniDict, num):\n",
        "  return sorted(humUniDict.items(), key=lambda item: item[1], reverse=True)[:num]"
      ],
      "execution_count": 11,
      "outputs": []
    },
    {
      "cell_type": "code",
      "metadata": {
        "id": "ovDuN1_KfB0c"
      },
      "source": [
        "hashtagDict={}\n",
        "for i in arrTweets:\n",
        "  tempDict={}\n",
        "  temp=i.full_text\n",
        "  temp=temp.replace('…','')\n",
        "  temp=temp.replace('\\n',' ')\n",
        "  tempList=temp.split()\n",
        "  for j in tempList:\n",
        "    if j[0]=='#':\n",
        "      if j in tempDict:\n",
        "        continue\n",
        "      else:\n",
        "        tempDict[j]=True\n",
        "        insertDict(hashtagDict, j)\n"
      ],
      "execution_count": 12,
      "outputs": []
    },
    {
      "cell_type": "code",
      "metadata": {
        "colab": {
          "base_uri": "https://localhost:8080/"
        },
        "id": "t70N1lYZOBXO",
        "outputId": "e701c4ef-4c6e-42d3-c1f9-5733c38d7435"
      },
      "source": [
        "commonList=sortDict(hashtagDict,20)\n",
        "commonList"
      ],
      "execution_count": 13,
      "outputs": [
        {
          "output_type": "execute_result",
          "data": {
            "text/plain": [
              "[('#CoronaSecondWave', 883),\n",
              " ('#COVID19', 177),\n",
              " ('#coronavirus', 174),\n",
              " ('#Corona', 127),\n",
              " ('#Cov', 99),\n",
              " ('#CoronavirusPandemic', 85),\n",
              " ('#COVIDEmergency2021', 71),\n",
              " ('#COVID19India', 64),\n",
              " ('#Modi', 60),\n",
              " ('#TSUNAMI', 56),\n",
              " ('#MSunami', 56),\n",
              " ('#CoronavirusIndia', 49),\n",
              " ('#OxygenCrisis', 42),\n",
              " ('#CoronaPandemic', 37),\n",
              " ('#CovidIndia', 36),\n",
              " ('#Cor', 34),\n",
              " ('#Oxygen', 30),\n",
              " ('#VakeelSaab', 26),\n",
              " ('#Covid', 26),\n",
              " ('#India', 22)]"
            ]
          },
          "metadata": {
            "tags": []
          },
          "execution_count": 13
        }
      ]
    },
    {
      "cell_type": "code",
      "metadata": {
        "colab": {
          "base_uri": "https://localhost:8080/"
        },
        "id": "5CJz9e1RbE0M",
        "outputId": "5317017f-f508-44d4-9c38-b97b0bcb43a6"
      },
      "source": [
        "arrTweets[1]"
      ],
      "execution_count": 14,
      "outputs": [
        {
          "output_type": "execute_result",
          "data": {
            "text/plain": [
              "Status(_api=<tweepy.api.API object at 0x7ff1b2ae4f90>, _json={'created_at': 'Sat Apr 24 20:30:18 +0000 2021', 'id': 1386054917941436420, 'id_str': '1386054917941436420', 'full_text': 'For Delhi NCR...\\n\\n#CoronaSecondWave\\n#COVID19\\n#CovidIndia https://t.co/qHOQuLz14j', 'truncated': False, 'display_text_range': [0, 56], 'entities': {'hashtags': [{'text': 'CoronaSecondWave', 'indices': [18, 35]}, {'text': 'COVID19', 'indices': [36, 44]}, {'text': 'CovidIndia', 'indices': [45, 56]}], 'symbols': [], 'user_mentions': [], 'urls': [], 'media': [{'id': 1386054907598282755, 'id_str': '1386054907598282755', 'indices': [57, 80], 'media_url': 'http://pbs.twimg.com/media/EzxBmEaVIAMnDbn.jpg', 'media_url_https': 'https://pbs.twimg.com/media/EzxBmEaVIAMnDbn.jpg', 'url': 'https://t.co/qHOQuLz14j', 'display_url': 'pic.twitter.com/qHOQuLz14j', 'expanded_url': 'https://twitter.com/Covid19Warriorr/status/1386054917941436420/photo/1', 'type': 'photo', 'sizes': {'large': {'w': 1080, 'h': 1682, 'resize': 'fit'}, 'small': {'w': 437, 'h': 680, 'resize': 'fit'}, 'medium': {'w': 771, 'h': 1200, 'resize': 'fit'}, 'thumb': {'w': 150, 'h': 150, 'resize': 'crop'}}}]}, 'extended_entities': {'media': [{'id': 1386054907598282755, 'id_str': '1386054907598282755', 'indices': [57, 80], 'media_url': 'http://pbs.twimg.com/media/EzxBmEaVIAMnDbn.jpg', 'media_url_https': 'https://pbs.twimg.com/media/EzxBmEaVIAMnDbn.jpg', 'url': 'https://t.co/qHOQuLz14j', 'display_url': 'pic.twitter.com/qHOQuLz14j', 'expanded_url': 'https://twitter.com/Covid19Warriorr/status/1386054917941436420/photo/1', 'type': 'photo', 'sizes': {'large': {'w': 1080, 'h': 1682, 'resize': 'fit'}, 'small': {'w': 437, 'h': 680, 'resize': 'fit'}, 'medium': {'w': 771, 'h': 1200, 'resize': 'fit'}, 'thumb': {'w': 150, 'h': 150, 'resize': 'crop'}}}]}, 'metadata': {'iso_language_code': 'en', 'result_type': 'recent'}, 'source': '<a href=\"http://twitter.com/download/android\" rel=\"nofollow\">Twitter for Android</a>', 'in_reply_to_status_id': None, 'in_reply_to_status_id_str': None, 'in_reply_to_user_id': None, 'in_reply_to_user_id_str': None, 'in_reply_to_screen_name': None, 'user': {'id': 1362071052361166848, 'id_str': '1362071052361166848', 'name': 'Covid Warrior', 'screen_name': 'Covid19Warriorr', 'location': 'Civil Line Area, New Delhi', 'description': '', 'url': None, 'entities': {'description': {'urls': []}}, 'protected': False, 'followers_count': 34, 'friends_count': 52, 'listed_count': 0, 'created_at': 'Wed Feb 17 16:07:21 +0000 2021', 'favourites_count': 71, 'utc_offset': None, 'time_zone': None, 'geo_enabled': False, 'verified': False, 'statuses_count': 150, 'lang': None, 'contributors_enabled': False, 'is_translator': False, 'is_translation_enabled': False, 'profile_background_color': 'F5F8FA', 'profile_background_image_url': None, 'profile_background_image_url_https': None, 'profile_background_tile': False, 'profile_image_url': 'http://pbs.twimg.com/profile_images/1384950006440873984/u-F2mHHC_normal.jpg', 'profile_image_url_https': 'https://pbs.twimg.com/profile_images/1384950006440873984/u-F2mHHC_normal.jpg', 'profile_banner_url': 'https://pbs.twimg.com/profile_banners/1362071052361166848/1619032787', 'profile_link_color': '1DA1F2', 'profile_sidebar_border_color': 'C0DEED', 'profile_sidebar_fill_color': 'DDEEF6', 'profile_text_color': '333333', 'profile_use_background_image': True, 'has_extended_profile': True, 'default_profile': True, 'default_profile_image': False, 'following': False, 'follow_request_sent': False, 'notifications': False, 'translator_type': 'none'}, 'geo': None, 'coordinates': None, 'place': None, 'contributors': None, 'is_quote_status': False, 'retweet_count': 0, 'favorite_count': 0, 'favorited': False, 'retweeted': False, 'possibly_sensitive': False, 'lang': 'en'}, created_at=datetime.datetime(2021, 4, 24, 20, 30, 18), id=1386054917941436420, id_str='1386054917941436420', full_text='For Delhi NCR...\\n\\n#CoronaSecondWave\\n#COVID19\\n#CovidIndia https://t.co/qHOQuLz14j', truncated=False, display_text_range=[0, 56], entities={'hashtags': [{'text': 'CoronaSecondWave', 'indices': [18, 35]}, {'text': 'COVID19', 'indices': [36, 44]}, {'text': 'CovidIndia', 'indices': [45, 56]}], 'symbols': [], 'user_mentions': [], 'urls': [], 'media': [{'id': 1386054907598282755, 'id_str': '1386054907598282755', 'indices': [57, 80], 'media_url': 'http://pbs.twimg.com/media/EzxBmEaVIAMnDbn.jpg', 'media_url_https': 'https://pbs.twimg.com/media/EzxBmEaVIAMnDbn.jpg', 'url': 'https://t.co/qHOQuLz14j', 'display_url': 'pic.twitter.com/qHOQuLz14j', 'expanded_url': 'https://twitter.com/Covid19Warriorr/status/1386054917941436420/photo/1', 'type': 'photo', 'sizes': {'large': {'w': 1080, 'h': 1682, 'resize': 'fit'}, 'small': {'w': 437, 'h': 680, 'resize': 'fit'}, 'medium': {'w': 771, 'h': 1200, 'resize': 'fit'}, 'thumb': {'w': 150, 'h': 150, 'resize': 'crop'}}}]}, extended_entities={'media': [{'id': 1386054907598282755, 'id_str': '1386054907598282755', 'indices': [57, 80], 'media_url': 'http://pbs.twimg.com/media/EzxBmEaVIAMnDbn.jpg', 'media_url_https': 'https://pbs.twimg.com/media/EzxBmEaVIAMnDbn.jpg', 'url': 'https://t.co/qHOQuLz14j', 'display_url': 'pic.twitter.com/qHOQuLz14j', 'expanded_url': 'https://twitter.com/Covid19Warriorr/status/1386054917941436420/photo/1', 'type': 'photo', 'sizes': {'large': {'w': 1080, 'h': 1682, 'resize': 'fit'}, 'small': {'w': 437, 'h': 680, 'resize': 'fit'}, 'medium': {'w': 771, 'h': 1200, 'resize': 'fit'}, 'thumb': {'w': 150, 'h': 150, 'resize': 'crop'}}}]}, metadata={'iso_language_code': 'en', 'result_type': 'recent'}, source='Twitter for Android', source_url='http://twitter.com/download/android', in_reply_to_status_id=None, in_reply_to_status_id_str=None, in_reply_to_user_id=None, in_reply_to_user_id_str=None, in_reply_to_screen_name=None, author=User(_api=<tweepy.api.API object at 0x7ff1b2ae4f90>, _json={'id': 1362071052361166848, 'id_str': '1362071052361166848', 'name': 'Covid Warrior', 'screen_name': 'Covid19Warriorr', 'location': 'Civil Line Area, New Delhi', 'description': '', 'url': None, 'entities': {'description': {'urls': []}}, 'protected': False, 'followers_count': 34, 'friends_count': 52, 'listed_count': 0, 'created_at': 'Wed Feb 17 16:07:21 +0000 2021', 'favourites_count': 71, 'utc_offset': None, 'time_zone': None, 'geo_enabled': False, 'verified': False, 'statuses_count': 150, 'lang': None, 'contributors_enabled': False, 'is_translator': False, 'is_translation_enabled': False, 'profile_background_color': 'F5F8FA', 'profile_background_image_url': None, 'profile_background_image_url_https': None, 'profile_background_tile': False, 'profile_image_url': 'http://pbs.twimg.com/profile_images/1384950006440873984/u-F2mHHC_normal.jpg', 'profile_image_url_https': 'https://pbs.twimg.com/profile_images/1384950006440873984/u-F2mHHC_normal.jpg', 'profile_banner_url': 'https://pbs.twimg.com/profile_banners/1362071052361166848/1619032787', 'profile_link_color': '1DA1F2', 'profile_sidebar_border_color': 'C0DEED', 'profile_sidebar_fill_color': 'DDEEF6', 'profile_text_color': '333333', 'profile_use_background_image': True, 'has_extended_profile': True, 'default_profile': True, 'default_profile_image': False, 'following': False, 'follow_request_sent': False, 'notifications': False, 'translator_type': 'none'}, id=1362071052361166848, id_str='1362071052361166848', name='Covid Warrior', screen_name='Covid19Warriorr', location='Civil Line Area, New Delhi', description='', url=None, entities={'description': {'urls': []}}, protected=False, followers_count=34, friends_count=52, listed_count=0, created_at=datetime.datetime(2021, 2, 17, 16, 7, 21), favourites_count=71, utc_offset=None, time_zone=None, geo_enabled=False, verified=False, statuses_count=150, lang=None, contributors_enabled=False, is_translator=False, is_translation_enabled=False, profile_background_color='F5F8FA', profile_background_image_url=None, profile_background_image_url_https=None, profile_background_tile=False, profile_image_url='http://pbs.twimg.com/profile_images/1384950006440873984/u-F2mHHC_normal.jpg', profile_image_url_https='https://pbs.twimg.com/profile_images/1384950006440873984/u-F2mHHC_normal.jpg', profile_banner_url='https://pbs.twimg.com/profile_banners/1362071052361166848/1619032787', profile_link_color='1DA1F2', profile_sidebar_border_color='C0DEED', profile_sidebar_fill_color='DDEEF6', profile_text_color='333333', profile_use_background_image=True, has_extended_profile=True, default_profile=True, default_profile_image=False, following=False, follow_request_sent=False, notifications=False, translator_type='none'), user=User(_api=<tweepy.api.API object at 0x7ff1b2ae4f90>, _json={'id': 1362071052361166848, 'id_str': '1362071052361166848', 'name': 'Covid Warrior', 'screen_name': 'Covid19Warriorr', 'location': 'Civil Line Area, New Delhi', 'description': '', 'url': None, 'entities': {'description': {'urls': []}}, 'protected': False, 'followers_count': 34, 'friends_count': 52, 'listed_count': 0, 'created_at': 'Wed Feb 17 16:07:21 +0000 2021', 'favourites_count': 71, 'utc_offset': None, 'time_zone': None, 'geo_enabled': False, 'verified': False, 'statuses_count': 150, 'lang': None, 'contributors_enabled': False, 'is_translator': False, 'is_translation_enabled': False, 'profile_background_color': 'F5F8FA', 'profile_background_image_url': None, 'profile_background_image_url_https': None, 'profile_background_tile': False, 'profile_image_url': 'http://pbs.twimg.com/profile_images/1384950006440873984/u-F2mHHC_normal.jpg', 'profile_image_url_https': 'https://pbs.twimg.com/profile_images/1384950006440873984/u-F2mHHC_normal.jpg', 'profile_banner_url': 'https://pbs.twimg.com/profile_banners/1362071052361166848/1619032787', 'profile_link_color': '1DA1F2', 'profile_sidebar_border_color': 'C0DEED', 'profile_sidebar_fill_color': 'DDEEF6', 'profile_text_color': '333333', 'profile_use_background_image': True, 'has_extended_profile': True, 'default_profile': True, 'default_profile_image': False, 'following': False, 'follow_request_sent': False, 'notifications': False, 'translator_type': 'none'}, id=1362071052361166848, id_str='1362071052361166848', name='Covid Warrior', screen_name='Covid19Warriorr', location='Civil Line Area, New Delhi', description='', url=None, entities={'description': {'urls': []}}, protected=False, followers_count=34, friends_count=52, listed_count=0, created_at=datetime.datetime(2021, 2, 17, 16, 7, 21), favourites_count=71, utc_offset=None, time_zone=None, geo_enabled=False, verified=False, statuses_count=150, lang=None, contributors_enabled=False, is_translator=False, is_translation_enabled=False, profile_background_color='F5F8FA', profile_background_image_url=None, profile_background_image_url_https=None, profile_background_tile=False, profile_image_url='http://pbs.twimg.com/profile_images/1384950006440873984/u-F2mHHC_normal.jpg', profile_image_url_https='https://pbs.twimg.com/profile_images/1384950006440873984/u-F2mHHC_normal.jpg', profile_banner_url='https://pbs.twimg.com/profile_banners/1362071052361166848/1619032787', profile_link_color='1DA1F2', profile_sidebar_border_color='C0DEED', profile_sidebar_fill_color='DDEEF6', profile_text_color='333333', profile_use_background_image=True, has_extended_profile=True, default_profile=True, default_profile_image=False, following=False, follow_request_sent=False, notifications=False, translator_type='none'), geo=None, coordinates=None, place=None, contributors=None, is_quote_status=False, retweet_count=0, favorite_count=0, favorited=False, retweeted=False, possibly_sensitive=False, lang='en')"
            ]
          },
          "metadata": {
            "tags": []
          },
          "execution_count": 14
        }
      ]
    },
    {
      "cell_type": "code",
      "metadata": {
        "id": "cny1uG5ecJiF"
      },
      "source": [
        "india=tweepy.Cursor(api.search,q=commonList[1][0][1:],lang=\"en\",tweet_mode='extended').items(2000)"
      ],
      "execution_count": 15,
      "outputs": []
    },
    {
      "cell_type": "code",
      "metadata": {
        "id": "qN9eyMM0cmrR"
      },
      "source": [
        "coronaSec=tweepy.Cursor(api.search,q=commonList[2][0][1:],lang=\"en\",tweet_mode='extended').items(2000)"
      ],
      "execution_count": 16,
      "outputs": []
    },
    {
      "cell_type": "code",
      "metadata": {
        "id": "fPdYuxCAc0FW"
      },
      "source": [
        "tollywood=tweepy.Cursor(api.search,q=commonList[3][0][1:],lang=\"en\",tweet_mode='extended').items(2000)"
      ],
      "execution_count": 17,
      "outputs": []
    },
    {
      "cell_type": "code",
      "metadata": {
        "id": "iortMmlxc-3e"
      },
      "source": [
        "alluArjun=tweepy.Cursor(api.search,q=commonList[4][0][1:],lang=\"en\",tweet_mode='extended').items(2000)"
      ],
      "execution_count": 18,
      "outputs": []
    },
    {
      "cell_type": "code",
      "metadata": {
        "id": "W7N1M-wndSXy"
      },
      "source": [
        "bunny=tweepy.Cursor(api.search,q=commonList[5][0][1:],lang=\"en\",tweet_mode='extended').items(2000)"
      ],
      "execution_count": 19,
      "outputs": []
    },
    {
      "cell_type": "code",
      "metadata": {
        "id": "syHOM2T1dZsA"
      },
      "source": [
        "pus=tweepy.Cursor(api.search,q=commonList[6][0][1:],lang=\"en\",tweet_mode='extended').items(2000)"
      ],
      "execution_count": 20,
      "outputs": []
    },
    {
      "cell_type": "code",
      "metadata": {
        "id": "-fxwiJLadhOa"
      },
      "source": [
        "cOVIDEmergency=tweepy.Cursor(api.search,q=commonList[7][0][1:],lang=\"en\",tweet_mode='extended').items(2000)"
      ],
      "execution_count": 21,
      "outputs": []
    },
    {
      "cell_type": "code",
      "metadata": {
        "id": "yIZLnYnVdt02"
      },
      "source": [
        "covid=tweepy.Cursor(api.search,q=commonList[8][0][1:],lang=\"en\",tweet_mode='extended').items(2000)"
      ],
      "execution_count": 22,
      "outputs": []
    },
    {
      "cell_type": "code",
      "metadata": {
        "id": "YByiIv1zd_nG"
      },
      "source": [
        "cOVID=tweepy.Cursor(api.search,q=commonList[9][0][1:],lang=\"en\",tweet_mode='extended').items(2000)"
      ],
      "execution_count": 23,
      "outputs": []
    },
    {
      "cell_type": "code",
      "metadata": {
        "id": "BAaDodQkeS-b"
      },
      "source": [
        "cOVIDIndia=tweepy.Cursor(api.search,q=commonList[10][0][1:],lang=\"en\",tweet_mode='extended').items(2000)"
      ],
      "execution_count": 24,
      "outputs": []
    },
    {
      "cell_type": "code",
      "metadata": {
        "id": "3XME0EuOecml"
      },
      "source": [
        "def fetchArr(arr):\n",
        "  arrTweets=[]\n",
        "  while True:\n",
        "    try:\n",
        "      temp=arr.next()\n",
        "      arrTweets.append(temp)\n",
        "    except tweepy.TweepError:\n",
        "      time.sleep(60*15)\n",
        "      continue\n",
        "    except StopIteration:\n",
        "      break\n",
        "  return arrTweets"
      ],
      "execution_count": 25,
      "outputs": []
    },
    {
      "cell_type": "code",
      "metadata": {
        "id": "cwXCYwPEfsQq"
      },
      "source": [
        "arrIndia=fetchArr(india)"
      ],
      "execution_count": 26,
      "outputs": []
    },
    {
      "cell_type": "code",
      "metadata": {
        "id": "cgewOyE0gpbV"
      },
      "source": [
        "arrCoronaSec=fetchArr(coronaSec)"
      ],
      "execution_count": 27,
      "outputs": []
    },
    {
      "cell_type": "code",
      "metadata": {
        "id": "2jpLJL3Jg9Je"
      },
      "source": [
        "arrTollywood=fetchArr(tollywood)"
      ],
      "execution_count": 28,
      "outputs": []
    },
    {
      "cell_type": "code",
      "metadata": {
        "id": "LEyguIB6hFFH"
      },
      "source": [
        "arrAlluArjun=fetchArr(alluArjun)"
      ],
      "execution_count": 29,
      "outputs": []
    },
    {
      "cell_type": "code",
      "metadata": {
        "id": "zWyMdLr9hOfo"
      },
      "source": [
        "arrBunny=fetchArr(bunny)"
      ],
      "execution_count": 30,
      "outputs": []
    },
    {
      "cell_type": "code",
      "metadata": {
        "id": "EtY1SKZAhXfs"
      },
      "source": [
        "arrPus=fetchArr(pus)"
      ],
      "execution_count": 31,
      "outputs": []
    },
    {
      "cell_type": "code",
      "metadata": {
        "id": "Yp7tRIl7hdhe"
      },
      "source": [
        "arrCOVIDEmergency=fetchArr(cOVIDEmergency)"
      ],
      "execution_count": 32,
      "outputs": []
    },
    {
      "cell_type": "code",
      "metadata": {
        "id": "OcdKwV31hmEW"
      },
      "source": [
        "arrCovid=fetchArr(covid)"
      ],
      "execution_count": 33,
      "outputs": []
    },
    {
      "cell_type": "code",
      "metadata": {
        "id": "T-1P46Wzhu4a"
      },
      "source": [
        "arrCOVID=fetchArr(cOVID)"
      ],
      "execution_count": 34,
      "outputs": []
    },
    {
      "cell_type": "code",
      "metadata": {
        "id": "4J-F2EPqh0iI"
      },
      "source": [
        "arrCOVIDIndia=fetchArr(cOVIDIndia)"
      ],
      "execution_count": 35,
      "outputs": []
    },
    {
      "cell_type": "code",
      "metadata": {
        "id": "OoEAHB0VpVcY"
      },
      "source": [
        "universalArr=[]\n",
        "universalArr.extend(arrTweets)\n",
        "universalArr.extend(arrIndia)\n",
        "universalArr.extend(arrCoronaSec)\n",
        "universalArr.extend(arrTollywood)\n",
        "universalArr.extend(arrAlluArjun)\n",
        "universalArr.extend(arrBunny)\n",
        "universalArr.extend(arrPus)\n",
        "universalArr.extend(arrCOVIDEmergency)\n",
        "universalArr.extend(arrCovid)\n",
        "universalArr.extend(arrCOVID)\n",
        "universalArr.extend(arrCOVIDIndia)"
      ],
      "execution_count": 36,
      "outputs": []
    },
    {
      "cell_type": "code",
      "metadata": {
        "id": "oA_fCntuuHQG"
      },
      "source": [
        "with open('/content/drive/MyDrive/PSOSMpvt/fullList.txt','w') as file:\n",
        "  for items in universalArr:\n",
        "    file.write('%s\\n' %items)"
      ],
      "execution_count": 37,
      "outputs": []
    },
    {
      "cell_type": "code",
      "metadata": {
        "id": "_5xin9hp8Jfe"
      },
      "source": [
        "occurencesDict={}\n",
        "for i in universalArr:\n",
        "  tempDict={}\n",
        "  temp=i.full_text\n",
        "  temp=temp.replace('…','')\n",
        "  temp=temp.replace('\\n',' ')\n",
        "  tempList=temp.split()\n",
        "  for j in tempList:\n",
        "    if j[0]=='#':\n",
        "      if j in tempDict:\n",
        "        continue\n",
        "      else:\n",
        "        tempDict[j]=True\n",
        "        insertDict(occurencesDict, j)"
      ],
      "execution_count": 38,
      "outputs": []
    },
    {
      "cell_type": "code",
      "metadata": {
        "colab": {
          "base_uri": "https://localhost:8080/"
        },
        "id": "Hycz8xGZ-hRo",
        "outputId": "e565ca61-9d1f-4bde-b2c8-5d024ded4b03"
      },
      "source": [
        "len(universalArr)"
      ],
      "execution_count": 39,
      "outputs": [
        {
          "output_type": "execute_result",
          "data": {
            "text/plain": [
              "18575"
            ]
          },
          "metadata": {
            "tags": []
          },
          "execution_count": 39
        }
      ]
    },
    {
      "cell_type": "code",
      "metadata": {
        "colab": {
          "base_uri": "https://localhost:8080/"
        },
        "id": "JsaijLfn-2zb",
        "outputId": "906ffdc8-5e92-41bf-db61-46eb40471bd3"
      },
      "source": [
        "occurList=sortDict(occurencesDict,15)\n",
        "occurList"
      ],
      "execution_count": 40,
      "outputs": [
        {
          "output_type": "execute_result",
          "data": {
            "text/plain": [
              "[('#COVID19', 1336),\n",
              " ('#COVIDEmergency2021', 1098),\n",
              " ('#COVID19India', 1082),\n",
              " ('#CoronaSecondWave', 979),\n",
              " ('#CovidIndia', 399),\n",
              " ('#coronavirus', 394),\n",
              " ('#CoronavirusPandemic', 373),\n",
              " ('#Corona', 358),\n",
              " ('#TSUNAMI', 347),\n",
              " ('#Delhi', 301),\n",
              " ('#CovidHelp', 285),\n",
              " ('#Tsunami', 245),\n",
              " ('#COVIDIOTS', 241),\n",
              " ('#Oxygen', 217),\n",
              " ('#CovidResources', 197)]"
            ]
          },
          "metadata": {
            "tags": []
          },
          "execution_count": 40
        }
      ]
    },
    {
      "cell_type": "code",
      "metadata": {
        "colab": {
          "base_uri": "https://localhost:8080/",
          "height": 439
        },
        "id": "q5tprVsP_QXv",
        "outputId": "6f6f25ef-f976-44e1-f590-92827ff89725"
      },
      "source": [
        "import matplotlib.pyplot as plt\n",
        "keys=[]\n",
        "values=[]\n",
        "for i in range(10):\n",
        "  keys.append(occurList[i][0])\n",
        "  values.append(occurList[i][1])\n",
        "\n",
        "plt.bar(keys,values)\n",
        "plt.xticks(rotation = 90)\n",
        "plt.xlabel('hashtags')\n",
        "plt.ylabel('number of occurences')\n",
        "plt.suptitle('Top 10 most occuring hashtags')\n",
        "plt.show"
      ],
      "execution_count": 41,
      "outputs": [
        {
          "output_type": "execute_result",
          "data": {
            "text/plain": [
              "<function matplotlib.pyplot.show>"
            ]
          },
          "metadata": {
            "tags": []
          },
          "execution_count": 41
        },
        {
          "output_type": "display_data",
          "data": {
            "image/png": "[encoded data removed]",
            "text/plain": [
              "<Figure size 432x288 with 1 Axes>"
            ]
          },
          "metadata": {
            "tags": [],
            "needs_background": "light"
          }
        }
      ]
    },
    {
      "cell_type": "code",
      "metadata": {
        "id": "2rYkFWqbBB6Y"
      },
      "source": [
        "likesDict={}\n",
        "retweetsDict={}\n",
        "for i in universalArr:\n",
        "  tempDict={}\n",
        "  temp=i.full_text\n",
        "  temp=temp.replace('…','')\n",
        "  temp=temp.replace('\\n',' ')\n",
        "  tempList=temp.split()\n",
        "  for j in tempList:\n",
        "    if j[0]=='#':\n",
        "      if j in tempDict:\n",
        "        continue\n",
        "      else:\n",
        "        tempDict[j]=True\n",
        "        if j in likesDict:\n",
        "          likesDict[j]+=i.favorite_count\n",
        "          retweetsDict[j]+=i.retweet_count\n",
        "        else:\n",
        "          likesDict[j]=i.favorite_count\n",
        "          retweetsDict[j]=i.retweet_count"
      ],
      "execution_count": 42,
      "outputs": []
    },
    {
      "cell_type": "code",
      "metadata": {
        "colab": {
          "base_uri": "https://localhost:8080/"
        },
        "id": "FdbOIVh8FvBf",
        "outputId": "30aceda5-09fc-463a-96ce-d34790c8e932"
      },
      "source": [
        "likeList=sortDict(likesDict,15)\n",
        "likeList"
      ],
      "execution_count": 43,
      "outputs": [
        {
          "output_type": "execute_result",
          "data": {
            "text/plain": [
              "[('#CoronaSecondWave', 4137),\n",
              " ('#COVID19', 1078),\n",
              " ('#coronavirus', 705),\n",
              " ('#TSUNAMI', 667),\n",
              " ('#COVID19India', 663),\n",
              " ('#COVIDEmergency2021', 627),\n",
              " ('#Modi', 625),\n",
              " ('#MSunami', 613),\n",
              " ('#CoronavirusPandemic', 579),\n",
              " ('#Covid', 441),\n",
              " ('#CovidIndia', 389),\n",
              " ('#Corona', 359),\n",
              " ('#IndiaFightsCOVID19', 335),\n",
              " ('#covid19,', 246),\n",
              " ('#Oxygen', 219)]"
            ]
          },
          "metadata": {
            "tags": []
          },
          "execution_count": 43
        }
      ]
    },
    {
      "cell_type": "code",
      "metadata": {
        "colab": {
          "base_uri": "https://localhost:8080/"
        },
        "id": "oWvhBRF8GO-o",
        "outputId": "6c688196-e776-4172-fa29-b35add050e99"
      },
      "source": [
        "retweetList=sortDict(retweetsDict,15)\n",
        "retweetList"
      ],
      "execution_count": 44,
      "outputs": [
        {
          "output_type": "execute_result",
          "data": {
            "text/plain": [
              "[('#COVID19', 517374),\n",
              " ('#COVID19India', 358773),\n",
              " ('#Covid', 221261),\n",
              " ('#Corona', 156182),\n",
              " ('#OxygenShortage', 143796),\n",
              " ('#Tsunami', 137164),\n",
              " ('#COVID19,', 110400),\n",
              " ('#COVIDEmergency2021', 93238),\n",
              " ('#COVAXIN', 64610),\n",
              " ('#CCPVirus', 42626),\n",
              " ('#Unrestr', 35512),\n",
              " ('#ModiSarkarHiSystemHai', 33679),\n",
              " ('#CoronaSecondWave', 33502),\n",
              " ('#PMCares', 32639),\n",
              " ('#India’s', 31406)]"
            ]
          },
          "metadata": {
            "tags": []
          },
          "execution_count": 44
        }
      ]
    },
    {
      "cell_type": "code",
      "metadata": {
        "colab": {
          "base_uri": "https://localhost:8080/",
          "height": 439
        },
        "id": "bUpywR6gGrCf",
        "outputId": "010d5ead-a407-466c-a3cf-1b07fa574385"
      },
      "source": [
        "keys=[]\n",
        "values=[]\n",
        "for i in range(10):\n",
        "  keys.append(likeList[i][0])\n",
        "  values.append(likeList[i][1])\n",
        "\n",
        "plt.bar(keys,values)\n",
        "plt.xticks(rotation = 90)\n",
        "plt.xlabel('hashtags')\n",
        "plt.ylabel('number of likes')\n",
        "plt.suptitle('Top 10 most liked hashtags')\n",
        "plt.show"
      ],
      "execution_count": 45,
      "outputs": [
        {
          "output_type": "execute_result",
          "data": {
            "text/plain": [
              "<function matplotlib.pyplot.show>"
            ]
          },
          "metadata": {
            "tags": []
          },
          "execution_count": 45
        },
        {
          "output_type": "display_data",
          "data": {
            "image/png": "[encoded data removed]",
            "text/plain": [
              "<Figure size 432x288 with 1 Axes>"
            ]
          },
          "metadata": {
            "tags": [],
            "needs_background": "light"
          }
        }
      ]
    },
    {
      "cell_type": "code",
      "metadata": {
        "colab": {
          "base_uri": "https://localhost:8080/",
          "height": 439
        },
        "id": "Yg2ItgwrGtC7",
        "outputId": "982b7c13-bd07-4e05-88e9-62ce1b41baea"
      },
      "source": [
        "keys=[]\n",
        "values=[]\n",
        "for i in range(10):\n",
        "  keys.append(retweetList[i][0])\n",
        "  values.append(retweetList[i][1])\n",
        "\n",
        "plt.bar(keys,values)\n",
        "plt.xticks(rotation = 90)\n",
        "plt.xlabel('hashtags')\n",
        "plt.ylabel('number of retweets')\n",
        "plt.suptitle('Top 10 most retweeted hashtags')\n",
        "plt.show"
      ],
      "execution_count": 46,
      "outputs": [
        {
          "output_type": "execute_result",
          "data": {
            "text/plain": [
              "<function matplotlib.pyplot.show>"
            ]
          },
          "metadata": {
            "tags": []
          },
          "execution_count": 46
        },
        {
          "output_type": "display_data",
          "data": {
            "image/png": "[encoded data removed]",
            "text/plain": [
              "<Figure size 432x288 with 1 Axes>"
            ]
          },
          "metadata": {
            "tags": [],
            "needs_background": "light"
          }
        }
      ]
    },
    {
      "cell_type": "code",
      "metadata": {
        "id": "pE-gpqHPJFQd"
      },
      "source": [
        "usersDict={}\n",
        "for i in universalArr:\n",
        "  insertDict(usersDict,i.user.id_str)\n",
        "most50User=sortDict(usersDict,50)\n",
        "topUserDict={}\n",
        "for i in most50User:\n",
        "  topUserDict[i[0]]=i[1]\n",
        "occur10List=[]\n",
        "for i in occurList[:10]:\n",
        "  occur10List.append(i[0])\n",
        "like10List=[]\n",
        "for i in likeList[:10]:\n",
        "  like10List.append(i[0])\n",
        "retweet10List=[]\n",
        "for i in retweetList[:10]:\n",
        "  retweet10List.append(i[0])"
      ],
      "execution_count": 47,
      "outputs": []
    },
    {
      "cell_type": "code",
      "metadata": {
        "id": "qGAxxsZ_Hbsy"
      },
      "source": [
        "def trafficFunc(topUserDict,hashList,universalArr):\n",
        "  ctmTable=pd.DataFrame(columns=['Hashtag','R/10','F','U','C'])\n",
        "  for i in hashList:\n",
        "    tweetCount=0\n",
        "    retweetCount=0\n",
        "    top50Count=0\n",
        "    tempUserDict={}\n",
        "    for j in universalArr:\n",
        "      if i in j.full_text:\n",
        "        tweetCount+=1\n",
        "        if j.full_text[:4] == 'RT @':\n",
        "          retweetCount+=1\n",
        "        if (j.user.id_str in topUserDict):\n",
        "          top50Count+=1\n",
        "        insertDict(tempUserDict,j.user.id_str)\n",
        "    r=(retweetCount/tweetCount)*10\n",
        "    f=(top50Count/tweetCount)*100\n",
        "    u=(tweetCount/len(tempUserDict))\n",
        "    c=r+f+u\n",
        "    ctmTable=ctmTable.append({'Hashtag':i,'R/10':r,'F':f,'U':u,'C':c},ignore_index=True)\n",
        "  return ctmTable"
      ],
      "execution_count": 57,
      "outputs": []
    },
    {
      "cell_type": "code",
      "metadata": {
        "colab": {
          "base_uri": "https://localhost:8080/"
        },
        "id": "WIyzQ-O_PsaQ",
        "outputId": "a5fdd571-e133-4d6d-f228-399ef1152886"
      },
      "source": [
        "print(trafficFunc(topUserDict,occur10List,universalArr))"
      ],
      "execution_count": 58,
      "outputs": [
        {
          "output_type": "stream",
          "text": [
            "                Hashtag      R/10          F         U          C\n",
            "0              #COVID19  6.484655   4.503786  1.199904  12.188346\n",
            "1   #COVIDEmergency2021  5.967886   4.906334  1.268100  12.142319\n",
            "2         #COVID19India  5.529197   4.014599  1.215078  10.758873\n",
            "3     #CoronaSecondWave  6.090819   3.356367  1.246002  10.693189\n",
            "4           #CovidIndia  3.891403   6.334842  1.270115  11.496359\n",
            "5          #coronavirus  5.525672   8.557457  1.231928  15.315057\n",
            "6  #CoronavirusPandemic  3.582474  11.855670  1.315254  16.753399\n",
            "7               #Corona  6.135726   5.384184  1.310066  12.829976\n",
            "8              #TSUNAMI  8.850575   4.885057  1.689320  15.424953\n",
            "9                #Delhi  8.000000   8.000000  1.198083  17.198083\n"
          ],
          "name": "stdout"
        }
      ]
    },
    {
      "cell_type": "code",
      "metadata": {
        "colab": {
          "base_uri": "https://localhost:8080/"
        },
        "id": "izjLazVNgBZY",
        "outputId": "a61b5040-7ac9-4540-e2b6-8256075c818d"
      },
      "source": [
        "print(trafficFunc(topUserDict,like10List,universalArr))"
      ],
      "execution_count": 59,
      "outputs": [
        {
          "output_type": "stream",
          "text": [
            "                Hashtag      R/10          F         U          C\n",
            "0     #CoronaSecondWave  6.090819   3.356367  1.246002  10.693189\n",
            "1              #COVID19  6.484655   4.503786  1.199904  12.188346\n",
            "2          #coronavirus  5.525672   8.557457  1.231928  15.315057\n",
            "3              #TSUNAMI  8.850575   4.885057  1.689320  15.424953\n",
            "4         #COVID19India  5.529197   4.014599  1.215078  10.758873\n",
            "5   #COVIDEmergency2021  5.967886   4.906334  1.268100  12.142319\n",
            "6                 #Modi  7.248460   6.570842  1.453731  15.273033\n",
            "7              #MSunami  9.858156   4.255319  2.238095  16.351570\n",
            "8  #CoronavirusPandemic  3.582474  11.855670  1.315254  16.753399\n",
            "9                #Covid  5.449102   6.159110  1.316441  12.924654\n"
          ],
          "name": "stdout"
        }
      ]
    },
    {
      "cell_type": "code",
      "metadata": {
        "colab": {
          "base_uri": "https://localhost:8080/"
        },
        "id": "hxWPF5cRgCOk",
        "outputId": "3c2e8063-821f-4fab-d4c4-776b626b8b35"
      },
      "source": [
        "print(trafficFunc(topUserDict,retweet10List,universalArr))"
      ],
      "execution_count": 60,
      "outputs": [
        {
          "output_type": "stream",
          "text": [
            "               Hashtag       R/10          F         U          C\n",
            "0             #COVID19   6.484655   4.503786  1.199904  12.188346\n",
            "1        #COVID19India   5.529197   4.014599  1.215078  10.758873\n",
            "2               #Covid   5.449102   6.159110  1.316441  12.924654\n",
            "3              #Corona   6.135726   5.384184  1.310066  12.829976\n",
            "4      #OxygenShortage   4.750000   5.000000  1.071429  10.821429\n",
            "5             #Tsunami   4.412955  51.012146  2.627660  58.052761\n",
            "6            #COVID19,   9.493671   1.265823  1.000000  11.759494\n",
            "7  #COVIDEmergency2021   5.967886   4.906334  1.268100  12.142319\n",
            "8             #COVAXIN  10.000000   0.000000  1.000000  11.000000\n",
            "9            #CCPVirus   9.861111   4.166667  1.531915  15.559693\n"
          ],
          "name": "stdout"
        }
      ]
    }
  ]
}