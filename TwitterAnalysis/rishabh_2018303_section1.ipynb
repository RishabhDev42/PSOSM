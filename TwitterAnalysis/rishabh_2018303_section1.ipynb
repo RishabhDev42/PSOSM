{
  "nbformat": 4,
  "nbformat_minor": 0,
  "metadata": {
    "colab": {
      "name": "Homework2_Section1.ipynb",
      "provenance": [],
      "collapsed_sections": []
    },
    "kernelspec": {
      "name": "python3",
      "display_name": "Python 3"
    },
    "language_info": {
      "name": "python"
    }
  },
  "cells": [
    {
      "cell_type": "markdown",
      "metadata": {
        "id": "4FgAsXtzrMx4"
      },
      "source": [
        "## **Section 1**"
      ]
    },
    {
      "cell_type": "code",
      "metadata": {
        "id": "v6Av8JMAYrzd"
      },
      "source": [
        "import sys, tweepy\n",
        "import pandas as pd\n",
        "import csv\n",
        "import re\n",
        "import plotly.graph_objects as gr\n",
        "import plotly.express as px\n",
        "import statistics\n",
        "import numpy as np\n",
        "import tqdm\n",
        "import random\n"
      ],
      "execution_count": null,
      "outputs": []
    },
    {
      "cell_type": "code",
      "metadata": {
        "colab": {
          "base_uri": "https://localhost:8080/"
        },
        "id": "ZJSfniwIjzAR",
        "outputId": "87d9ac5d-2b21-49f8-d546-edec9080af70"
      },
      "source": [
        "from google.colab import drive\n",
        "drive.mount('/content/drive')"
      ],
      "execution_count": null,
      "outputs": [
        {
          "output_type": "stream",
          "text": [
            "Mounted at /content/drive\n"
          ],
          "name": "stdout"
        }
      ]
    },
    {
      "cell_type": "code",
      "metadata": {
        "id": "iafaOSchnGhJ"
      },
      "source": [
        "df = pd.read_csv('/content/drive/MyDrive/PSOSMpvt/Twitter.txt', delimiter = \"\\t\", names=['text'])"
      ],
      "execution_count": null,
      "outputs": []
    },
    {
      "cell_type": "code",
      "metadata": {
        "id": "N6kkXT7Ksg-t"
      },
      "source": [
        "credLst=[]\n",
        "for i in df.text:\n",
        "  credLst.append(str(i))\n",
        "for i in range(len(credLst)):\n",
        "  credLst[i]=credLst[i].split()[-1]\n",
        "# credLst"
      ],
      "execution_count": null,
      "outputs": []
    },
    {
      "cell_type": "code",
      "metadata": {
        "colab": {
          "base_uri": "https://localhost:8080/"
        },
        "id": "hYdanYfHuj8P",
        "outputId": "cc492dd9-3bc1-4345-9ab1-bc7387fa2795"
      },
      "source": [
        "auth=tweepy.OAuthHandler(credLst[0],credLst[1])\n",
        "auth.set_access_token(credLst[3],credLst[4])\n",
        "api=tweepy.API(auth)\n",
        "if (not api):\n",
        "    print(\"Authentication failed\")\n",
        "else:\n",
        "    print(\"Authentication successful\")"
      ],
      "execution_count": null,
      "outputs": [
        {
          "output_type": "stream",
          "text": [
            "Authentication successful\n"
          ],
          "name": "stdout"
        }
      ]
    },
    {
      "cell_type": "markdown",
      "metadata": {
        "id": "1fIuKUGvrYE5"
      },
      "source": [
        "### **1.**"
      ]
    },
    {
      "cell_type": "code",
      "metadata": {
        "colab": {
          "base_uri": "https://localhost:8080/",
          "height": 459
        },
        "id": "Y6O2NpXk1Mm8",
        "outputId": "c5ce3951-5420-4835-a78c-edb5cf41aad2"
      },
      "source": [
        "arrData=[]\n",
        "twiData=api.user_timeline(screen_name=\"DCPWestDelhi\",count=200,tweet_mode='extended')\n",
        "arrData.extend(twiData)\n",
        "limit=arrData[-1].id - 1\n",
        "while (len(arrData)<3200):\n",
        "    twiData=api.user_timeline(screen_name=\"DCPWestDelhi\",count=200,max_id=limit,tweet_mode='extended')\n",
        "    arrData.extend(twiData)\n",
        "    limit=arrData[-1].id - 1"
      ],
      "execution_count": null,
      "outputs": [
        {
          "output_type": "error",
          "ename": "RateLimitError",
          "evalue": "ignored",
          "traceback": [
            "\u001b[0;31m---------------------------------------------------------------------------\u001b[0m",
            "\u001b[0;31mRateLimitError\u001b[0m                            Traceback (most recent call last)",
            "\u001b[0;32m<ipython-input-6-32d2610998df>\u001b[0m in \u001b[0;36m<module>\u001b[0;34m()\u001b[0m\n\u001b[1;32m      4\u001b[0m \u001b[0mlimit\u001b[0m\u001b[0;34m=\u001b[0m\u001b[0marrData\u001b[0m\u001b[0;34m[\u001b[0m\u001b[0;34m-\u001b[0m\u001b[0;36m1\u001b[0m\u001b[0;34m]\u001b[0m\u001b[0;34m.\u001b[0m\u001b[0mid\u001b[0m \u001b[0;34m-\u001b[0m \u001b[0;36m1\u001b[0m\u001b[0;34m\u001b[0m\u001b[0;34m\u001b[0m\u001b[0m\n\u001b[1;32m      5\u001b[0m \u001b[0;32mwhile\u001b[0m \u001b[0;34m(\u001b[0m\u001b[0mlen\u001b[0m\u001b[0;34m(\u001b[0m\u001b[0marrData\u001b[0m\u001b[0;34m)\u001b[0m\u001b[0;34m<\u001b[0m\u001b[0;36m3200\u001b[0m\u001b[0;34m)\u001b[0m\u001b[0;34m:\u001b[0m\u001b[0;34m\u001b[0m\u001b[0;34m\u001b[0m\u001b[0m\n\u001b[0;32m----> 6\u001b[0;31m     \u001b[0mtwiData\u001b[0m\u001b[0;34m=\u001b[0m\u001b[0mapi\u001b[0m\u001b[0;34m.\u001b[0m\u001b[0muser_timeline\u001b[0m\u001b[0;34m(\u001b[0m\u001b[0mscreen_name\u001b[0m\u001b[0;34m=\u001b[0m\u001b[0;34m\"DCPWestDelhi\"\u001b[0m\u001b[0;34m,\u001b[0m\u001b[0mcount\u001b[0m\u001b[0;34m=\u001b[0m\u001b[0;36m200\u001b[0m\u001b[0;34m,\u001b[0m\u001b[0mmax_id\u001b[0m\u001b[0;34m=\u001b[0m\u001b[0mlimit\u001b[0m\u001b[0;34m,\u001b[0m\u001b[0mtweet_mode\u001b[0m\u001b[0;34m=\u001b[0m\u001b[0;34m'extended'\u001b[0m\u001b[0;34m)\u001b[0m\u001b[0;34m\u001b[0m\u001b[0;34m\u001b[0m\u001b[0m\n\u001b[0m\u001b[1;32m      7\u001b[0m     \u001b[0marrData\u001b[0m\u001b[0;34m.\u001b[0m\u001b[0mextend\u001b[0m\u001b[0;34m(\u001b[0m\u001b[0mtwiData\u001b[0m\u001b[0;34m)\u001b[0m\u001b[0;34m\u001b[0m\u001b[0;34m\u001b[0m\u001b[0m\n\u001b[1;32m      8\u001b[0m     \u001b[0mlimit\u001b[0m\u001b[0;34m=\u001b[0m\u001b[0marrData\u001b[0m\u001b[0;34m[\u001b[0m\u001b[0;34m-\u001b[0m\u001b[0;36m1\u001b[0m\u001b[0;34m]\u001b[0m\u001b[0;34m.\u001b[0m\u001b[0mid\u001b[0m \u001b[0;34m-\u001b[0m \u001b[0;36m1\u001b[0m\u001b[0;34m\u001b[0m\u001b[0;34m\u001b[0m\u001b[0m\n",
            "\u001b[0;32m/usr/local/lib/python3.7/dist-packages/tweepy/binder.py\u001b[0m in \u001b[0;36m_call\u001b[0;34m(*args, **kwargs)\u001b[0m\n\u001b[1;32m    251\u001b[0m                 \u001b[0;32mreturn\u001b[0m \u001b[0mmethod\u001b[0m\u001b[0;34m\u001b[0m\u001b[0;34m\u001b[0m\u001b[0m\n\u001b[1;32m    252\u001b[0m             \u001b[0;32melse\u001b[0m\u001b[0;34m:\u001b[0m\u001b[0;34m\u001b[0m\u001b[0;34m\u001b[0m\u001b[0m\n\u001b[0;32m--> 253\u001b[0;31m                 \u001b[0;32mreturn\u001b[0m \u001b[0mmethod\u001b[0m\u001b[0;34m.\u001b[0m\u001b[0mexecute\u001b[0m\u001b[0;34m(\u001b[0m\u001b[0;34m)\u001b[0m\u001b[0;34m\u001b[0m\u001b[0;34m\u001b[0m\u001b[0m\n\u001b[0m\u001b[1;32m    254\u001b[0m         \u001b[0;32mfinally\u001b[0m\u001b[0;34m:\u001b[0m\u001b[0;34m\u001b[0m\u001b[0;34m\u001b[0m\u001b[0m\n\u001b[1;32m    255\u001b[0m             \u001b[0mmethod\u001b[0m\u001b[0;34m.\u001b[0m\u001b[0msession\u001b[0m\u001b[0;34m.\u001b[0m\u001b[0mclose\u001b[0m\u001b[0;34m(\u001b[0m\u001b[0;34m)\u001b[0m\u001b[0;34m\u001b[0m\u001b[0;34m\u001b[0m\u001b[0m\n",
            "\u001b[0;32m/usr/local/lib/python3.7/dist-packages/tweepy/binder.py\u001b[0m in \u001b[0;36mexecute\u001b[0;34m(self)\u001b[0m\n\u001b[1;32m    230\u001b[0m \u001b[0;34m\u001b[0m\u001b[0m\n\u001b[1;32m    231\u001b[0m                 \u001b[0;32mif\u001b[0m \u001b[0mis_rate_limit_error_message\u001b[0m\u001b[0;34m(\u001b[0m\u001b[0merror_msg\u001b[0m\u001b[0;34m)\u001b[0m\u001b[0;34m:\u001b[0m\u001b[0;34m\u001b[0m\u001b[0;34m\u001b[0m\u001b[0m\n\u001b[0;32m--> 232\u001b[0;31m                     \u001b[0;32mraise\u001b[0m \u001b[0mRateLimitError\u001b[0m\u001b[0;34m(\u001b[0m\u001b[0merror_msg\u001b[0m\u001b[0;34m,\u001b[0m \u001b[0mresp\u001b[0m\u001b[0;34m)\u001b[0m\u001b[0;34m\u001b[0m\u001b[0;34m\u001b[0m\u001b[0m\n\u001b[0m\u001b[1;32m    233\u001b[0m                 \u001b[0;32melse\u001b[0m\u001b[0;34m:\u001b[0m\u001b[0;34m\u001b[0m\u001b[0;34m\u001b[0m\u001b[0m\n\u001b[1;32m    234\u001b[0m                     \u001b[0;32mraise\u001b[0m \u001b[0mTweepError\u001b[0m\u001b[0;34m(\u001b[0m\u001b[0merror_msg\u001b[0m\u001b[0;34m,\u001b[0m \u001b[0mresp\u001b[0m\u001b[0;34m,\u001b[0m \u001b[0mapi_code\u001b[0m\u001b[0;34m=\u001b[0m\u001b[0mapi_error_code\u001b[0m\u001b[0;34m)\u001b[0m\u001b[0;34m\u001b[0m\u001b[0;34m\u001b[0m\u001b[0m\n",
            "\u001b[0;31mRateLimitError\u001b[0m: [{'message': 'Rate limit exceeded', 'code': 88}]"
          ]
        }
      ]
    },
    {
      "cell_type": "code",
      "metadata": {
        "id": "U9KNYsdMhP7O"
      },
      "source": [
        "idData=[]\n",
        "for i in arrData:\n",
        "  idData.append(i.id_str)"
      ],
      "execution_count": null,
      "outputs": []
    },
    {
      "cell_type": "code",
      "metadata": {
        "id": "zmjrKhZIN8to"
      },
      "source": [
        "with open('/content/drive/MyDrive/PSOSMpvt/tempData.txt','w') as file:\n",
        "  for items in arrData:\n",
        "    file.write('%s\\n' %items)"
      ],
      "execution_count": null,
      "outputs": []
    },
    {
      "cell_type": "code",
      "metadata": {
        "id": "EeSL7y0KmDwD"
      },
      "source": [
        "with open('/content/drive/MyDrive/PSOSMpvt/dataHW2.txt','w') as file:\n",
        "  for items in idData:\n",
        "    file.write('%s\\n' %items)"
      ],
      "execution_count": null,
      "outputs": []
    },
    {
      "cell_type": "markdown",
      "metadata": {
        "id": "eJQSKRzNrryR"
      },
      "source": [
        "**a.**"
      ]
    },
    {
      "cell_type": "code",
      "metadata": {
        "id": "XfGM8rY7nDfb"
      },
      "source": [
        "replyArr=[]\n",
        "for i in arrData:\n",
        "  replyArr.append(i.in_reply_to_status_id)"
      ],
      "execution_count": null,
      "outputs": []
    },
    {
      "cell_type": "code",
      "metadata": {
        "id": "KzkDEcUG4v8U"
      },
      "source": [
        "retweetArr=[]\n",
        "trackArr=[]\n",
        "for i in range(len(replyArr)):\n",
        "  if (i!=None):\n",
        "    try:\n",
        "      retweetArr.append(api.get_status(replyArr[i]))\n",
        "      trackArr.append(arrData[i])\n",
        "    except:\n",
        "      continue"
      ],
      "execution_count": null,
      "outputs": []
    },
    {
      "cell_type": "code",
      "metadata": {
        "id": "6Hl4KW7sObjt"
      },
      "source": [
        "with open('/content/drive/MyDrive/PSOSMpvt/replyData.txt','w') as file:\n",
        "  for items in retweetArr:\n",
        "    file.write('%s\\n' %items)"
      ],
      "execution_count": null,
      "outputs": []
    },
    {
      "cell_type": "code",
      "metadata": {
        "id": "mQR2umtb7cSf"
      },
      "source": [
        "retweetText=[]\n",
        "for i in retweetArr:\n",
        "  retweetText.append(i.text)"
      ],
      "execution_count": null,
      "outputs": []
    },
    {
      "cell_type": "code",
      "metadata": {
        "id": "Ntmxhu5A9JVK"
      },
      "source": [
        "def fetchPii(strList):\n",
        "  aadhar='[2-9]{1}[0-9]{3}(|\\ |\\-|\\.)[0-9]{4}(|\\ |\\-|\\.)[0-9]{4}'\n",
        "  phoneNumber='((0|91|(\\+91)|)(|\\ |\\-|\\.)(\\d{4})(|\\ |\\-|\\.)(\\d{1})(|\\ |\\-|\\.)(\\d{2})(|\\ |\\-|\\.)(\\d{3}))'\n",
        "  email='[a-zA-Z0-9_.+-]+@[a-zA-Z0-9-]+\\.[a-zA-Z0-9-.]+'\n",
        "  ip='\\d{1,3}(\\.)\\d{1,3}(\\.)\\d{1,3}(\\.)\\d{1,3}'\n",
        "  pin='(\\ )[1-9]{1}[0-9]{2}(|\\ )[0-9]{3}(\\ )'\n",
        "  licensePlate='[a-zA-Z]{2}(|\\ |\\-|\\.)[0-9][a-zA-Z0-9](|\\ |\\-|\\.)([a-zA-Z]{2}|[[a-zA-Z]])(|\\ |\\-|\\.)[0-9]{4}'\n",
        "  checkList=[aadhar,phoneNumber,email,ip,pin,licensePlate]\n",
        "  retList=[[],[],[],[],[],[]]\n",
        "  for i in strList:\n",
        "    for j in range(len(checkList)):\n",
        "      tempArr=re.findall(checkList[j],i)\n",
        "      if (len(tempArr)>0):\n",
        "        retList[j].extend(tempArr)\n",
        "  return retList"
      ],
      "execution_count": null,
      "outputs": []
    },
    {
      "cell_type": "code",
      "metadata": {
        "id": "N5fjtqmB6AG_",
        "colab": {
          "base_uri": "https://localhost:8080/"
        },
        "outputId": "75dd5452-4241-45c6-865c-0535647c9345"
      },
      "source": [
        "outList=fetchPii(retweetText)\n",
        "numOutList=[]\n",
        "for i in outList:\n",
        "  numOutList.append(len(i))"
      ],
      "execution_count": null,
      "outputs": [
        {
          "output_type": "stream",
          "text": [
            "/usr/local/lib/python3.7/dist-packages/ipykernel_launcher.py:12: FutureWarning:\n",
            "\n",
            "Possible nested set at position 63\n",
            "\n"
          ],
          "name": "stderr"
        }
      ]
    },
    {
      "cell_type": "code",
      "metadata": {
        "id": "BY40rbFG8nSW",
        "colab": {
          "base_uri": "https://localhost:8080/",
          "height": 237
        },
        "outputId": "4e62579a-771f-4bfb-9ff5-7479182da0ac"
      },
      "source": [
        "piidf=pd.DataFrame(list(zip(numOutList,outList)), index =['aadhar', 'phone number', 'email ID', 'ip address', 'pincode', 'license plate'], columns =['# of PII detected','PII detected'])\n",
        "piidf"
      ],
      "execution_count": null,
      "outputs": [
        {
          "output_type": "execute_result",
          "data": {
            "text/html": [
              "<div>\n",
              "<style scoped>\n",
              "    .dataframe tbody tr th:only-of-type {\n",
              "        vertical-align: middle;\n",
              "    }\n",
              "\n",
              "    .dataframe tbody tr th {\n",
              "        vertical-align: top;\n",
              "    }\n",
              "\n",
              "    .dataframe thead th {\n",
              "        text-align: right;\n",
              "    }\n",
              "</style>\n",
              "<table border=\"1\" class=\"dataframe\">\n",
              "  <thead>\n",
              "    <tr style=\"text-align: right;\">\n",
              "      <th></th>\n",
              "      <th># of PII detected</th>\n",
              "      <th>PII detected</th>\n",
              "    </tr>\n",
              "  </thead>\n",
              "  <tbody>\n",
              "    <tr>\n",
              "      <th>aadhar</th>\n",
              "      <td>6</td>\n",
              "      <td>[(, ), (, ), (, ), (, ), (, ), (, )]</td>\n",
              "    </tr>\n",
              "    <tr>\n",
              "      <th>phone number</th>\n",
              "      <td>13</td>\n",
              "      <td>[(5000004676, , , , 5000, , 0, , 04, , 676), (...</td>\n",
              "    </tr>\n",
              "    <tr>\n",
              "      <th>email ID</th>\n",
              "      <td>0</td>\n",
              "      <td>[]</td>\n",
              "    </tr>\n",
              "    <tr>\n",
              "      <th>ip address</th>\n",
              "      <td>0</td>\n",
              "      <td>[]</td>\n",
              "    </tr>\n",
              "    <tr>\n",
              "      <th>pincode</th>\n",
              "      <td>0</td>\n",
              "      <td>[]</td>\n",
              "    </tr>\n",
              "    <tr>\n",
              "      <th>license plate</th>\n",
              "      <td>2</td>\n",
              "      <td>[(, , AR, ), ( ,  , BL,  )]</td>\n",
              "    </tr>\n",
              "  </tbody>\n",
              "</table>\n",
              "</div>"
            ],
            "text/plain": [
              "               # of PII detected                                       PII detected\n",
              "aadhar                         6               [(, ), (, ), (, ), (, ), (, ), (, )]\n",
              "phone number                  13  [(5000004676, , , , 5000, , 0, , 04, , 676), (...\n",
              "email ID                       0                                                 []\n",
              "ip address                     0                                                 []\n",
              "pincode                        0                                                 []\n",
              "license plate                  2                        [(, , AR, ), ( ,  , BL,  )]"
            ]
          },
          "metadata": {
            "tags": []
          },
          "execution_count": 16
        }
      ]
    },
    {
      "cell_type": "markdown",
      "metadata": {
        "id": "DQhyG9Mpyu8t"
      },
      "source": [
        "**b.**"
      ]
    },
    {
      "cell_type": "code",
      "metadata": {
        "id": "ow52eD7R8cyD"
      },
      "source": [
        "mediaArr=[]\n",
        "mediaLinks=[]\n",
        "for i in retweetArr:\n",
        "  if 'media' in i.entities.keys():\n",
        "    mediaArr.append(i.entities['media'])\n",
        "    mediaLinks.append(i.entities['media'][0]['url'])"
      ],
      "execution_count": null,
      "outputs": []
    },
    {
      "cell_type": "code",
      "metadata": {
        "id": "BewZyefQySCC",
        "colab": {
          "base_uri": "https://localhost:8080/"
        },
        "outputId": "0256b95f-72ec-4cfb-9eff-de216c205cfb"
      },
      "source": [
        "for i in mediaLinks:\n",
        "  print(i)"
      ],
      "execution_count": null,
      "outputs": [
        {
          "output_type": "stream",
          "text": [
            "https://t.co/HA7GblRNbO\n",
            "https://t.co/DQ0I4PD0Ey\n",
            "https://t.co/6DZf70TpmB\n",
            "https://t.co/wt1Ii1yG3L\n",
            "https://t.co/TK1usM6vXA\n",
            "https://t.co/6EIoyed0Ns\n",
            "https://t.co/vfgcpXfL4Q\n",
            "https://t.co/oZC75qu2GY\n",
            "https://t.co/dsDp8WEL2U\n",
            "https://t.co/uvqy9WiTse\n",
            "https://t.co/JKkFrcUmNP\n",
            "https://t.co/IRtsC6tCrT\n",
            "https://t.co/FaEeHEku8f\n",
            "https://t.co/WKnjOmsQeF\n",
            "https://t.co/7zz1IMWNcE\n",
            "https://t.co/KzpWEzjgev\n",
            "https://t.co/Nk0Qt7ybUS\n",
            "https://t.co/g772t1bwWr\n",
            "https://t.co/GheAt6KOac\n",
            "https://t.co/QNzGV4RYyp\n",
            "https://t.co/28eJTQmsIT\n"
          ],
          "name": "stdout"
        }
      ]
    },
    {
      "cell_type": "markdown",
      "metadata": {
        "id": "zi3ueRxx-rN4"
      },
      "source": [
        "### **2.**"
      ]
    },
    {
      "cell_type": "code",
      "metadata": {
        "id": "SKqPTb-wFqsO"
      },
      "source": [
        "timeList=[]\n",
        "for i in range(len(retweetArr)):\n",
        "  lst=[]\n",
        "  lst.append(retweetArr[i].created_at)\n",
        "  lst.append(trackArr[i].created_at)\n",
        "  timeList.append(lst)"
      ],
      "execution_count": null,
      "outputs": []
    },
    {
      "cell_type": "code",
      "metadata": {
        "colab": {
          "base_uri": "https://localhost:8080/"
        },
        "id": "s5_NdcFjwp1K",
        "outputId": "a58283e4-05a7-42d8-84ad-332211013db5"
      },
      "source": [
        "difTimeArr=[]\n",
        "for i in timeList:\n",
        "  difTimeArr.append(i[1]-i[0])\n",
        "\n",
        "print(difTimeArr[0])"
      ],
      "execution_count": null,
      "outputs": [
        {
          "output_type": "stream",
          "text": [
            "16:39:29\n"
          ],
          "name": "stdout"
        }
      ]
    },
    {
      "cell_type": "code",
      "metadata": {
        "colab": {
          "base_uri": "https://localhost:8080/"
        },
        "id": "4dZ_cfnd9NeL",
        "outputId": "49180697-670e-4b44-94e5-8173f0aa5309"
      },
      "source": [
        "print(min(difTimeArr))"
      ],
      "execution_count": null,
      "outputs": [
        {
          "output_type": "stream",
          "text": [
            "0:00:00\n"
          ],
          "name": "stdout"
        }
      ]
    },
    {
      "cell_type": "code",
      "metadata": {
        "colab": {
          "base_uri": "https://localhost:8080/"
        },
        "id": "04GUcJvC96HT",
        "outputId": "31c29522-cf86-4621-b3bc-e3a06480c992"
      },
      "source": [
        "print(max(difTimeArr))"
      ],
      "execution_count": null,
      "outputs": [
        {
          "output_type": "stream",
          "text": [
            "11 days, 1:40:24\n"
          ],
          "name": "stdout"
        }
      ]
    },
    {
      "cell_type": "code",
      "metadata": {
        "id": "qqF_1rRyAJzj"
      },
      "source": [
        "timeDifDf=pd.DataFrame(difTimeArr,columns=['time'])"
      ],
      "execution_count": null,
      "outputs": []
    },
    {
      "cell_type": "code",
      "metadata": {
        "colab": {
          "base_uri": "https://localhost:8080/"
        },
        "id": "QtQXmOQqBIhu",
        "outputId": "0dd94a2b-e3a7-42cd-8cc7-7bd958544d4d"
      },
      "source": [
        "timeDifDf['time'].mean()"
      ],
      "execution_count": null,
      "outputs": [
        {
          "output_type": "execute_result",
          "data": {
            "text/plain": [
              "Timedelta('0 days 19:14:58.339130434')"
            ]
          },
          "metadata": {
            "tags": []
          },
          "execution_count": 24
        }
      ]
    },
    {
      "cell_type": "code",
      "metadata": {
        "colab": {
          "base_uri": "https://localhost:8080/"
        },
        "id": "CKul45r7BWaC",
        "outputId": "cb0cf7cc-800a-4616-a871-716473b3cdfc"
      },
      "source": [
        "timeDifDf['time'].std()"
      ],
      "execution_count": null,
      "outputs": [
        {
          "output_type": "execute_result",
          "data": {
            "text/plain": [
              "Timedelta('1 days 13:54:59.178749627')"
            ]
          },
          "metadata": {
            "tags": []
          },
          "execution_count": 25
        }
      ]
    },
    {
      "cell_type": "markdown",
      "metadata": {
        "id": "OHq8X3q01U3J"
      },
      "source": [
        "b."
      ]
    },
    {
      "cell_type": "code",
      "metadata": {
        "id": "Cp8Ga48uBqbp"
      },
      "source": [
        "trackTimeArr=[]\n",
        "retweetTimeArr=[]\n",
        "for i in timeList:\n",
        "  trackTimeArr.append(i[1])\n",
        "  retweetTimeArr.append(i[0])"
      ],
      "execution_count": null,
      "outputs": []
    },
    {
      "cell_type": "code",
      "metadata": {
        "id": "J8QNG5UJDN6p"
      },
      "source": [
        "timeDifDf['trackTime']=trackTimeArr\n",
        "timeDifDf['retweetTime']=retweetTimeArr"
      ],
      "execution_count": null,
      "outputs": []
    },
    {
      "cell_type": "code",
      "metadata": {
        "id": "ZqMjYcQ7pB_O"
      },
      "source": [
        "timeDifDf['time']=timeDifDf['time'].dt.total_seconds()"
      ],
      "execution_count": null,
      "outputs": []
    },
    {
      "cell_type": "code",
      "metadata": {
        "colab": {
          "base_uri": "https://localhost:8080/",
          "height": 542
        },
        "id": "nbFraeSwk_Pc",
        "outputId": "d05468ca-2376-4a4a-917e-f9b5711da58b"
      },
      "source": [
        "graphTime=gr.Figure([gr.Scatter(x=timeDifDf[\"trackTime\"],y=timeDifDf['time'])])\n",
        "graphTime.show()"
      ],
      "execution_count": null,
      "outputs": [
        {
          "output_type": "display_data",
          "data": {
            "text/html": [
              "<html>\n",
              "<head><meta charset=\"utf-8\" /></head>\n",
              "<body>\n",
              "    <div>\n",
              "            <script src=\"https://cdnjs.cloudflare.com/ajax/libs/mathjax/2.7.5/MathJax.js?config=TeX-AMS-MML_SVG\"></script><script type=\"text/javascript\">if (window.MathJax) {MathJax.Hub.Config({SVG: {font: \"STIX-Web\"}});}</script>\n",
              "                <script type=\"text/javascript\">window.PlotlyConfig = {MathJaxConfig: 'local'};</script>\n",
              "        <script src=\"https://cdn.plot.ly/plotly-latest.min.js\"></script>    \n",
              "            <div id=\"54cf79c5-da88-4c4a-bfe9-6d277836c27d\" class=\"plotly-graph-div\" style=\"height:525px; width:100%;\"></div>\n",
              "            <script type=\"text/javascript\">\n",
              "                \n",
              "                    window.PLOTLYENV=window.PLOTLYENV || {};\n",
              "                    \n",
              "                if (document.getElementById(\"54cf79c5-da88-4c4a-bfe9-6d277836c27d\")) {\n",
              "                    Plotly.newPlot(\n",
              "                        '54cf79c5-da88-4c4a-bfe9-6d277836c27d',\n",
              "                        [{\"type\": \"scatter\", \"x\": [\"2021-04-23T06:57:50\", \"2021-04-21T07:29:26\", \"2021-04-20T15:12:24\", \"2021-04-20T06:43:01\", \"2021-04-19T16:42:08\", \"2021-04-19T07:52:03\", \"2021-04-19T05:40:50\", \"2021-04-18T11:21:48\", \"2021-04-18T07:16:09\", \"2021-04-18T06:44:40\", \"2021-04-15T16:18:44\", \"2021-04-15T13:30:06\", \"2021-04-15T10:15:52\", \"2021-04-15T08:27:22\", \"2021-04-15T08:26:39\", \"2021-04-15T08:19:58\", \"2021-04-15T08:19:28\", \"2021-04-15T05:18:46\", \"2021-04-15T05:10:34\", \"2021-04-14T04:16:02\", \"2021-04-12T08:52:46\", \"2021-04-11T17:46:26\", \"2021-04-11T17:02:29\", \"2021-04-11T17:01:03\", \"2021-04-11T16:36:52\", \"2021-04-10T05:25:03\", \"2021-04-09T13:08:25\", \"2021-04-09T05:49:34\", \"2021-04-09T05:48:17\", \"2021-04-07T18:39:46\", \"2021-04-07T15:06:11\", \"2021-04-07T01:37:39\", \"2021-04-06T12:13:34\", \"2021-04-03T02:26:45\", \"2021-03-31T15:38:14\", \"2021-03-31T15:36:34\", \"2021-03-31T15:31:42\", \"2021-03-30T00:47:31\", \"2021-03-29T09:15:16\", \"2021-03-28T15:26:47\", \"2021-03-28T14:02:58\", \"2021-03-28T11:26:24\", \"2021-03-27T18:09:22\", \"2021-03-27T18:06:47\", \"2021-03-23T11:24:13\", \"2021-03-23T10:30:36\", \"2021-03-23T10:06:07\", \"2021-03-23T03:55:04\", \"2021-03-22T16:19:31\", \"2021-03-20T08:21:58\", \"2021-03-20T08:07:30\", \"2021-03-19T15:39:48\", \"2021-03-19T06:06:45\", \"2021-03-17T11:37:41\", \"2021-03-17T11:31:21\", \"2021-03-17T09:54:18\", \"2021-03-16T14:11:02\", \"2021-03-16T08:49:40\", \"2021-03-15T18:18:19\", \"2021-03-15T17:57:56\", \"2021-03-15T17:05:35\", \"2021-03-14T15:33:54\", \"2021-03-13T18:33:44\", \"2021-03-12T18:28:53\", \"2021-03-12T11:15:52\", \"2021-03-11T15:55:22\", \"2021-03-11T03:55:25\", \"2021-03-10T16:55:28\", \"2021-03-10T15:12:48\", \"2021-03-10T14:32:13\", \"2021-03-10T08:57:50\", \"2021-03-09T15:28:37\", \"2021-03-08T06:25:08\", \"2021-03-08T03:57:03\", \"2021-03-07T15:07:55\", \"2021-03-07T11:57:06\", \"2021-03-06T17:49:29\", \"2021-03-06T17:28:44\", \"2021-03-06T13:56:53\", \"2021-03-05T16:23:12\", \"2021-03-05T07:11:55\", \"2021-03-05T05:16:35\", \"2021-03-03T16:59:29\", \"2021-03-03T11:13:55\", \"2021-03-03T09:15:31\", \"2021-03-03T08:33:34\", \"2021-02-27T17:56:13\", \"2021-02-27T14:41:56\", \"2021-02-27T05:52:42\", \"2021-02-25T09:03:41\", \"2021-02-24T17:22:11\", \"2021-02-24T15:48:43\", \"2021-02-23T16:28:33\", \"2021-02-23T16:24:23\", \"2021-02-21T07:34:57\", \"2021-02-19T23:13:13\", \"2021-02-19T15:16:18\", \"2021-02-19T10:47:45\", \"2021-02-18T02:54:46\", \"2021-02-17T15:43:20\", \"2021-02-16T14:39:55\", \"2021-02-15T18:36:45\", \"2021-02-15T18:32:20\", \"2021-02-15T14:08:34\", \"2021-02-15T13:53:12\", \"2021-02-15T01:46:14\", \"2021-02-14T12:55:06\", \"2021-02-13T09:37:43\", \"2021-02-13T09:36:00\", \"2021-02-13T02:46:34\", \"2021-02-12T18:12:16\", \"2021-02-11T18:24:58\", \"2021-02-09T03:52:45\", \"2021-02-09T03:50:03\", \"2021-02-08T05:22:11\", \"2021-02-07T08:44:54\", \"2021-02-06T08:25:32\", \"2021-02-06T05:46:02\", \"2021-02-06T05:41:11\", \"2021-02-06T04:57:00\", \"2021-02-05T13:29:08\", \"2021-02-05T05:02:24\", \"2021-02-04T09:39:56\", \"2021-02-04T06:58:55\", \"2021-02-04T05:14:32\", \"2021-02-03T23:54:24\", \"2021-02-03T10:25:12\", \"2021-02-03T10:22:43\", \"2021-02-03T01:31:29\", \"2021-02-01T12:36:48\", \"2021-02-01T11:55:11\", \"2021-02-01T10:22:51\", \"2021-02-01T10:10:30\", \"2021-02-01T09:48:01\", \"2021-02-01T09:42:42\", \"2021-02-01T09:35:27\", \"2021-02-01T09:10:00\", \"2021-02-01T09:08:53\", \"2021-02-01T08:41:43\", \"2021-02-01T08:38:50\", \"2021-02-01T08:36:25\", \"2021-02-01T08:35:44\", \"2021-02-01T08:29:11\", \"2021-02-01T08:28:38\", \"2021-02-01T08:27:00\", \"2021-02-01T08:25:58\", \"2021-02-01T08:23:42\", \"2021-02-01T08:18:04\", \"2021-01-31T17:47:06\", \"2021-01-31T16:41:33\", \"2021-01-28T05:38:26\", \"2021-01-26T12:04:49\", \"2021-01-26T12:03:03\", \"2021-01-26T07:16:48\", \"2021-01-25T18:02:51\", \"2021-01-25T16:57:49\", \"2021-01-25T12:20:30\", \"2021-01-25T08:36:48\", \"2021-01-24T18:13:18\", \"2021-01-24T09:19:32\", \"2021-01-24T08:24:25\", \"2021-01-23T11:21:15\", \"2021-01-23T04:31:51\", \"2021-01-22T10:05:51\", \"2021-01-22T10:00:39\", \"2021-01-22T09:43:01\", \"2021-01-22T09:38:16\", \"2021-01-21T16:28:39\", \"2021-01-19T18:46:18\", \"2021-01-19T18:39:26\", \"2021-01-19T12:37:40\", \"2021-01-18T17:14:30\", \"2021-01-17T15:01:51\", \"2021-01-16T16:27:50\", \"2021-01-15T09:16:54\", \"2021-01-14T18:18:56\", \"2021-01-14T18:15:36\", \"2021-01-13T18:31:01\", \"2021-01-13T12:59:39\", \"2021-01-12T18:19:02\", \"2021-01-11T17:08:20\", \"2021-01-11T16:55:32\", \"2021-01-11T04:12:39\", \"2021-01-10T06:52:39\", \"2021-01-09T17:51:21\", \"2021-01-09T17:07:13\", \"2021-01-08T17:57:41\", \"2021-01-08T16:02:11\", \"2021-01-08T14:53:04\", \"2021-01-07T08:18:55\", \"2021-01-06T17:59:18\", \"2021-01-05T13:22:53\", \"2021-01-04T15:33:12\", \"2021-01-04T15:14:55\", \"2021-01-04T15:07:36\", \"2021-01-04T15:06:23\", \"2021-01-03T16:24:40\", \"2021-01-03T08:48:28\", \"2021-01-03T08:11:57\", \"2021-01-03T05:58:52\", \"2021-01-03T05:53:47\", \"2021-01-02T09:46:51\", \"2021-01-01T12:32:49\", \"2020-12-31T15:04:16\", \"2020-12-31T14:08:08\", \"2020-12-30T13:27:21\", \"2020-12-30T10:49:57\", \"2020-12-30T10:04:51\", \"2020-12-29T17:51:03\", \"2020-12-29T14:00:34\", \"2020-12-27T06:52:15\", \"2020-12-26T12:42:14\", \"2020-12-26T12:30:24\", \"2020-12-26T08:47:01\", \"2020-12-25T18:41:07\", \"2020-12-25T03:06:50\", \"2020-12-25T02:55:45\", \"2020-12-25T02:51:28\", \"2020-12-24T04:04:43\", \"2020-12-22T14:07:14\", \"2020-12-22T14:04:49\", \"2020-12-22T07:45:48\", \"2020-12-22T03:31:53\", \"2020-12-22T03:28:46\", \"2020-12-22T03:17:51\", \"2020-12-21T13:21:25\", \"2020-12-21T06:57:08\", \"2020-12-20T17:24:33\", \"2020-12-20T10:14:01\", \"2020-12-20T10:12:21\", \"2020-12-19T16:29:46\", \"2020-12-19T12:09:02\", \"2020-12-17T17:12:01\", \"2020-12-17T12:15:17\", \"2020-12-17T10:29:50\", \"2020-12-16T16:04:17\", \"2020-12-15T12:16:24\", \"2020-12-15T02:53:08\", \"2020-12-14T15:57:33\", \"2020-12-14T15:51:31\", \"2020-12-14T15:47:45\", \"2020-12-14T14:08:34\", \"2020-12-14T03:34:26\", \"2020-12-13T09:41:35\", \"2020-12-13T04:51:11\", \"2020-12-13T04:43:27\", \"2020-12-12T10:46:11\", \"2020-12-12T06:37:12\", \"2020-12-11T05:53:58\", \"2020-12-11T03:15:06\", \"2020-12-10T12:55:16\", \"2020-12-10T12:35:10\", \"2020-12-10T12:22:06\", \"2020-12-10T10:06:45\", \"2020-12-10T08:45:09\", \"2020-12-10T06:31:40\", \"2020-12-07T15:51:44\", \"2020-12-07T15:06:07\", \"2020-12-07T11:02:26\", \"2020-12-06T16:32:34\", \"2020-12-06T13:30:40\", \"2020-12-04T12:17:23\", \"2020-12-04T06:02:40\", \"2020-12-03T18:08:22\", \"2020-12-03T16:42:44\", \"2020-12-03T07:58:27\", \"2020-12-03T06:51:59\", \"2020-12-03T06:22:49\", \"2020-12-03T05:22:11\", \"2020-12-01T17:35:49\", \"2020-11-30T17:27:01\", \"2020-11-30T13:37:35\", \"2020-11-30T11:31:38\", \"2020-11-30T10:04:10\", \"2020-11-28T16:06:55\", \"2020-11-28T16:03:26\", \"2020-11-28T16:01:13\", \"2020-11-28T10:49:43\", \"2020-11-28T07:39:36\", \"2020-11-27T21:13:26\", \"2020-11-27T18:15:18\", \"2020-11-27T12:41:42\", \"2020-11-26T18:43:07\", \"2020-11-26T00:54:24\", \"2020-11-25T12:46:12\", \"2020-11-25T12:11:09\", \"2020-11-25T10:28:18\", \"2020-11-25T04:15:27\", \"2020-11-24T18:50:47\", \"2020-11-24T13:35:33\", \"2020-11-24T07:06:37\", \"2020-11-23T17:17:41\", \"2020-11-23T17:14:22\", \"2020-11-23T17:12:24\", \"2020-11-23T17:06:03\", \"2020-11-23T09:26:36\", \"2020-11-22T11:10:04\", \"2020-11-21T17:06:21\", \"2020-11-21T15:50:10\", \"2020-11-21T15:04:03\", \"2020-11-20T15:11:27\", \"2020-11-20T12:08:54\", \"2020-11-20T05:47:48\", \"2020-11-19T18:16:24\", \"2020-11-19T18:10:05\", \"2020-11-19T18:04:39\", \"2020-11-19T13:39:01\", \"2020-11-19T04:39:43\", \"2020-11-18T13:30:41\", \"2020-11-18T07:31:26\", \"2020-11-18T02:54:14\", \"2020-11-18T02:48:14\", \"2020-11-18T02:41:59\", \"2020-11-17T09:31:02\", \"2020-11-16T12:15:26\", \"2020-11-16T12:08:58\", \"2020-11-16T11:17:07\", \"2020-11-16T09:02:35\", \"2020-11-16T06:25:30\", \"2020-11-15T17:36:27\", \"2020-11-15T06:54:36\", \"2020-11-15T06:39:24\", \"2020-11-15T03:41:37\", \"2020-11-15T03:38:48\", \"2020-11-14T16:07:10\", \"2020-11-14T16:05:00\", \"2020-11-14T15:45:29\", \"2020-11-14T15:10:01\", \"2020-11-14T14:43:06\", \"2020-11-14T14:13:28\", \"2020-11-14T13:30:21\", \"2020-11-14T10:01:06\", \"2020-11-14T05:03:30\", \"2020-11-13T23:58:40\", \"2020-11-13T14:54:58\", \"2020-11-13T14:33:31\", \"2020-11-13T06:52:00\", \"2020-11-13T05:24:20\", \"2020-11-13T05:10:30\", \"2020-11-13T05:01:55\", \"2020-11-13T04:58:21\", \"2020-11-12T17:45:11\", \"2020-11-12T05:55:03\", \"2020-11-12T05:52:36\", \"2020-11-12T04:55:40\", \"2020-11-11T19:07:15\", \"2020-11-11T18:01:13\", \"2020-11-11T17:53:39\", \"2020-11-11T17:47:45\", \"2020-11-11T17:43:45\", \"2020-11-11T14:06:39\", \"2020-11-11T09:19:16\", \"2020-11-11T07:52:58\", \"2020-11-11T07:48:50\", \"2020-11-10T17:11:27\", \"2020-11-10T15:57:27\", \"2020-11-10T09:18:27\", \"2020-11-09T07:46:23\", \"2020-11-09T04:08:50\", \"2020-11-08T16:27:15\", \"2020-11-07T14:37:57\", \"2020-11-07T09:13:17\", \"2020-11-06T10:07:40\", \"2020-11-06T06:01:24\", \"2020-11-05T12:11:23\", \"2020-11-05T11:56:31\", \"2020-11-04T18:38:17\", \"2020-11-04T11:18:36\", \"2020-11-03T17:24:42\", \"2020-11-03T17:16:10\", \"2020-11-03T05:08:31\", \"2020-11-03T03:32:19\", \"2020-11-02T16:04:14\", \"2020-11-02T13:21:21\", \"2020-11-02T13:18:21\", \"2020-11-02T12:42:40\", \"2020-11-01T14:32:52\", \"2020-11-01T10:33:46\", \"2020-10-31T17:39:08\", \"2020-10-31T17:36:48\", \"2020-10-31T10:33:12\", \"2020-10-31T09:00:11\", \"2020-10-30T15:43:20\", \"2020-10-30T05:45:15\", \"2020-10-30T04:19:24\", \"2020-10-28T11:26:36\", \"2020-10-28T08:35:33\", \"2020-10-28T05:50:42\", \"2020-10-27T11:07:56\", \"2020-10-27T07:52:13\", \"2020-10-26T17:01:13\", \"2020-10-26T16:58:00\", \"2020-10-26T16:54:28\", \"2020-10-26T05:24:59\", \"2020-10-24T14:25:59\", \"2020-10-23T17:21:37\", \"2020-10-23T10:27:01\", \"2020-10-23T10:23:36\", \"2020-10-22T10:57:06\", \"2020-10-22T09:11:19\", \"2020-10-22T09:08:50\", \"2020-10-22T09:02:51\", \"2020-10-22T08:09:37\", \"2020-10-22T07:39:11\", \"2020-10-21T02:45:30\", \"2020-10-20T14:32:28\", \"2020-10-20T14:28:28\", \"2020-10-20T14:20:32\", \"2020-10-20T14:11:48\", \"2020-10-20T13:59:18\", \"2020-10-20T13:55:50\", \"2020-10-20T13:49:16\", \"2020-10-20T13:39:49\", \"2020-10-20T13:17:57\", \"2020-10-20T13:02:01\", \"2020-10-20T12:48:55\", \"2020-10-20T12:39:49\", \"2020-10-20T12:38:00\", \"2020-10-03T04:19:58\", \"2020-10-01T15:18:17\", \"2020-09-29T06:28:06\", \"2020-09-22T18:10:08\", \"2020-09-22T05:56:34\", \"2020-09-18T06:07:45\", \"2020-09-15T13:04:04\", \"2020-09-13T07:22:52\", \"2020-09-11T03:41:19\", \"2020-07-17T06:36:17\", \"2020-07-17T06:34:36\", \"2020-07-17T06:33:00\", \"2020-07-13T12:25:52\", \"2020-07-13T06:00:04\", \"2020-07-07T06:50:08\", \"2020-06-30T10:09:07\", \"2020-06-30T10:03:08\", \"2020-06-30T10:01:59\", \"2020-06-30T10:01:18\", \"2020-06-30T09:56:11\", \"2020-06-30T09:55:02\", \"2020-06-30T09:53:34\", \"2020-06-30T09:50:38\", \"2020-06-30T09:49:24\", \"2020-06-24T08:14:33\", \"2020-06-19T07:23:41\", \"2020-06-17T09:39:50\", \"2020-06-12T08:32:35\", \"2020-06-11T13:18:27\", \"2020-06-11T10:58:01\", \"2020-06-10T11:33:32\", \"2020-06-10T11:24:34\", \"2020-06-10T11:22:39\", \"2020-06-09T14:43:07\", \"2020-06-09T14:41:45\", \"2020-06-09T14:40:50\", \"2020-06-09T14:38:23\", \"2020-06-09T14:32:26\", \"2020-06-09T06:08:59\", \"2020-06-09T06:08:06\", \"2020-06-09T06:05:31\", \"2020-06-09T05:59:58\"], \"y\": [59969.00000000001, 301.0, 777.0, 3853.0000000000005, 9903.0, 592.0, 52491.0, 3539.0, 16301.000000000002, 935.0000000000001, 3068.0, 120.00000000000001, 1405.0, 1493.0, 30.000000000000004, 4063.0000000000005, 7770.000000000001, 43412.0, 9723.0, 3629.0, 10361.0, 2306.0, 5091.0, 5532.0, 1250.0, 856.0, 4987.0, 24064.0, 34688.0, 616.0, 1714.0, 196512.0, 485.00000000000006, 21683.0, 432.0, 163563.0, 176228.0, 24429.0, 197.0, 126187.00000000001, 1627.0, 9424.0, 136590.0, 2427.0, 6547.0, 3388.0, 11675.0, 2422.0, 130121.00000000001, 7887.000000000001, 6696.0, 447737.0, 1245.0, 431063.0, 382746.0, 33020.0, 5733.0, 3705.0000000000005, 79.0, 904.0, 990.0000000000001, 69223.0, 34149.0, 2579.0, 240077.00000000003, 173716.0, 14664.000000000002, 1221.0, 88154.0, 17112.0, 64969.00000000001, 2703.0, 7240.0, 4299.0, 5035.0, 1284.0, 1058.0, 127589.00000000001, 3961.0000000000005, 178961.0, 4890.0, 447.0, 937.0000000000001, 13950.0, 956424.0000000001, 455491.0, 2690.0, 172271.0, 2401.0, 549.0, 181379.0, 3412.0, 1230.0, 173558.0, 826.0, 17399.0, 203.0, 6088.0, 354.0, 181094.0, 8305.0, 169599.0, 5534.0, 11149.0, 19992.0, 211350.0, 11394.0, 4132.0, 11050.0, 14344.0, 2106.0, 123742.00000000001, 172369.0, 225896.0, 1685.0, 1593.0, 251.00000000000003, 323.0, 177.0, 37279.0, 308.0, 2768.0, 133.0, 2525.0, 1000.0000000000001, 20748.0, 77.0, 153.0, 212899.0, 1564.0, 2234.0, 82.0, 149.0, 7590.000000000001, 62.00000000000001, 365.0, 99.0, 124.00000000000001, 883.0, 186.0, 41.0, 9450.0, 33.0, 11119.0, 62.00000000000001, 21436.0, 338.0, 11068.0, 202702.0, 1261.0, 35263.0, 4892.0, 13198.0, 6910.0, 1795.0, 173.0, 8277.0, 5843.0, 6490.0, 2502.0, 5817.0, 6984.0, 166188.0, 2837.0, 57.0, 324.0, 1182.0, 138372.0, 176315.0, 663.0, 241.00000000000003, 4245.0, 9588.0, 385.0, 3515.0, 139825.0, 181394.0, 11256.0, 1420.0, 194383.0, 119279.00000000001, 13125.0, 39738.0, 1092.0, 193130.0, 80577.0, 113610.0, 609.0, 1163.0, 397.0, 702.0, 4756.0, 976.0000000000001, 314.0, 15009.000000000002, 16495.0, 701.0, 1445.0, 6252.0, 2938.0, 327.0, 769.0, 7191.0, 938.0000000000001, 237.00000000000003, 4627.0, 10584.0, 104.0, 196667.0, 3454.0, 4717.0, 250.00000000000003, 6053.0, 773.0, 176073.0, 30090.000000000004, 158242.0, 202337.0, 321.0, 16802.0, 2397.0, 1834.0000000000002, 37818.0, 33723.0, 38496.0, 2449.0, 2418.0, 1777.0, 7497.000000000001, 246.00000000000003, 125658.00000000001, 319.0, 906.0, 243.00000000000003, 273.0, 4784.0, 286.0, 32675.000000000004, 304.0, 319.0, 571.0, 3993.0000000000005, 29466.000000000004, 1637.0, 42764.0, 673.0, 17768.0, 174.0, 500.00000000000006, 288276.0, 15914.000000000002, 619.0, 4436.0, 11012.0, 616.0, 3239.0, 2737.0, 17912.0, 4384.0, 166944.0, 106.0, 5334.0, 737.0, 144770.0, 6341.0, 815.0, 819.0, 5238.0, 155164.0, 643.0, 456.0, 8574.0, 3075.0, 7806.000000000001, 9860.0, 266774.0, 8667.0, 4920.0, 2822.0, 185143.0, 199581.0, 2824.0, 206.0, 22799.0, 854.0, 9388.0, 369.0, 4659.0, 198640.0, 7832.000000000001, 2123.0, 13988.0, 195485.0, 126357.00000000001, 192725.0, 2842.0, 4535.0, 121743.00000000001, 471.00000000000006, 415.0, 965.0000000000001, 533.0, 2645.0, 427297.0, 4304.0, 5556.0, 248534.00000000003, 418.0, 104.0, 392.0, 30107.000000000004, 40884.0, 157232.0, 4332.0, 4006.0000000000005, 2334.0, 149.0, 10616.0, 2320.0, 203972.0, 693.0, 1551.0, 38338.0, 176184.0, 854.0, 766.0, 128.0, 200.0, 1519.0, 174.0, 1584.0, 1604.0, 1153.0, 17722.0, 3079.0, 1245.0, 624.0, 312.0, 5002.0, 36532.0, 223322.0, 193082.0, 1604.0, 3800.0000000000005, 900.0, 1139.0, 200576.0, 2823.0, 128782.00000000001, 124024.00000000001, 1328.0, 347.0, 1843.0000000000002, 4460.0, 111141.0, 6224.0, 427.0, 245.00000000000003, 12489.0, 132131.0, 1381.0, 4051.0000000000005, 567.0, 344.0, 19676.0, 2782.0, 115641.0, 396.0, 1379.0, 434041.0, 251.00000000000003, 34219.0, 653.0, 1861.0000000000002, 600.0, 3584.0, 911.0, 891.0, 111338.0, 42435.0, 3503.0, 182936.0, 906.0, 596.0, 156909.0, 3229.0, 6172.0, 15056.000000000002, 271.0, 2877.0, 125827.00000000001, 130929.00000000001, 177657.0, 159132.0, 10096.0, 382651.0, 949.0000000000001, 977.0000000000001, 193002.0, 335521.0, 191531.0, 180093.0, 272774.0, 326.0, 5025.0, 467008.0, 207.0, 341472.0, 458.00000000000006, 386496.0, 272897.0, 245373.00000000003, 321275.0, 374869.0, 348691.0, 415893.0, 437109.0, 490927.00000000006, 147.0, 19187.0, 361458.0, 13952.0, 42659.0, 74.0, 3272.0, 53139.0, 73933.0, 161292.0, 234824.00000000003, 5582.0, 11076.0, 4427.0, 105744.0, 362017.0, 954417.0000000001, 861701.0, 691181.0, 99787.0, 95375.0, 93042.0, 89282.0, 13518.0, 93707.0, 606275.0, 496090.00000000006, 0.0, 1006.0000000000001, 7204.0, 75343.0, 13441.0, 2639.0, 192584.0, 194276.0, 199407.0, 505672.00000000006, 465658.0, 426730.0, 503324.00000000006, 441426.0, 491044.00000000006]}],\n",
              "                        {\"template\": {\"data\": {\"bar\": [{\"error_x\": {\"color\": \"#2a3f5f\"}, \"error_y\": {\"color\": \"#2a3f5f\"}, \"marker\": {\"line\": {\"color\": \"#E5ECF6\", \"width\": 0.5}}, \"type\": \"bar\"}], \"barpolar\": [{\"marker\": {\"line\": {\"color\": \"#E5ECF6\", \"width\": 0.5}}, \"type\": \"barpolar\"}], \"carpet\": [{\"aaxis\": {\"endlinecolor\": \"#2a3f5f\", \"gridcolor\": \"white\", \"linecolor\": \"white\", \"minorgridcolor\": \"white\", \"startlinecolor\": \"#2a3f5f\"}, \"baxis\": {\"endlinecolor\": \"#2a3f5f\", \"gridcolor\": \"white\", \"linecolor\": \"white\", \"minorgridcolor\": \"white\", \"startlinecolor\": \"#2a3f5f\"}, \"type\": \"carpet\"}], \"choropleth\": [{\"colorbar\": {\"outlinewidth\": 0, \"ticks\": \"\"}, \"type\": \"choropleth\"}], \"contour\": [{\"colorbar\": {\"outlinewidth\": 0, \"ticks\": \"\"}, \"colorscale\": [[0.0, \"#0d0887\"], [0.1111111111111111, \"#46039f\"], [0.2222222222222222, \"#7201a8\"], [0.3333333333333333, \"#9c179e\"], [0.4444444444444444, \"#bd3786\"], [0.5555555555555556, \"#d8576b\"], [0.6666666666666666, \"#ed7953\"], [0.7777777777777778, \"#fb9f3a\"], [0.8888888888888888, \"#fdca26\"], [1.0, \"#f0f921\"]], \"type\": \"contour\"}], \"contourcarpet\": [{\"colorbar\": {\"outlinewidth\": 0, \"ticks\": \"\"}, \"type\": \"contourcarpet\"}], \"heatmap\": [{\"colorbar\": {\"outlinewidth\": 0, \"ticks\": \"\"}, \"colorscale\": [[0.0, \"#0d0887\"], [0.1111111111111111, \"#46039f\"], [0.2222222222222222, \"#7201a8\"], [0.3333333333333333, \"#9c179e\"], [0.4444444444444444, \"#bd3786\"], [0.5555555555555556, \"#d8576b\"], [0.6666666666666666, \"#ed7953\"], [0.7777777777777778, \"#fb9f3a\"], [0.8888888888888888, \"#fdca26\"], [1.0, \"#f0f921\"]], \"type\": \"heatmap\"}], \"heatmapgl\": [{\"colorbar\": {\"outlinewidth\": 0, \"ticks\": \"\"}, \"colorscale\": [[0.0, \"#0d0887\"], [0.1111111111111111, \"#46039f\"], [0.2222222222222222, \"#7201a8\"], [0.3333333333333333, \"#9c179e\"], [0.4444444444444444, \"#bd3786\"], [0.5555555555555556, \"#d8576b\"], [0.6666666666666666, \"#ed7953\"], [0.7777777777777778, \"#fb9f3a\"], [0.8888888888888888, \"#fdca26\"], [1.0, \"#f0f921\"]], \"type\": \"heatmapgl\"}], \"histogram\": [{\"marker\": {\"colorbar\": {\"outlinewidth\": 0, \"ticks\": \"\"}}, \"type\": \"histogram\"}], \"histogram2d\": [{\"colorbar\": {\"outlinewidth\": 0, \"ticks\": \"\"}, \"colorscale\": [[0.0, \"#0d0887\"], [0.1111111111111111, \"#46039f\"], [0.2222222222222222, \"#7201a8\"], [0.3333333333333333, \"#9c179e\"], [0.4444444444444444, \"#bd3786\"], [0.5555555555555556, \"#d8576b\"], [0.6666666666666666, \"#ed7953\"], [0.7777777777777778, \"#fb9f3a\"], [0.8888888888888888, \"#fdca26\"], [1.0, \"#f0f921\"]], \"type\": \"histogram2d\"}], \"histogram2dcontour\": [{\"colorbar\": {\"outlinewidth\": 0, \"ticks\": \"\"}, \"colorscale\": [[0.0, \"#0d0887\"], [0.1111111111111111, \"#46039f\"], [0.2222222222222222, \"#7201a8\"], [0.3333333333333333, \"#9c179e\"], [0.4444444444444444, \"#bd3786\"], [0.5555555555555556, \"#d8576b\"], [0.6666666666666666, \"#ed7953\"], [0.7777777777777778, \"#fb9f3a\"], [0.8888888888888888, \"#fdca26\"], [1.0, \"#f0f921\"]], \"type\": \"histogram2dcontour\"}], \"mesh3d\": [{\"colorbar\": {\"outlinewidth\": 0, \"ticks\": \"\"}, \"type\": \"mesh3d\"}], \"parcoords\": [{\"line\": {\"colorbar\": {\"outlinewidth\": 0, \"ticks\": \"\"}}, \"type\": \"parcoords\"}], \"pie\": [{\"automargin\": true, \"type\": \"pie\"}], \"scatter\": [{\"marker\": {\"colorbar\": {\"outlinewidth\": 0, \"ticks\": \"\"}}, \"type\": \"scatter\"}], \"scatter3d\": [{\"line\": {\"colorbar\": {\"outlinewidth\": 0, \"ticks\": \"\"}}, \"marker\": {\"colorbar\": {\"outlinewidth\": 0, \"ticks\": \"\"}}, \"type\": \"scatter3d\"}], \"scattercarpet\": [{\"marker\": {\"colorbar\": {\"outlinewidth\": 0, \"ticks\": \"\"}}, \"type\": \"scattercarpet\"}], \"scattergeo\": [{\"marker\": {\"colorbar\": {\"outlinewidth\": 0, \"ticks\": \"\"}}, \"type\": \"scattergeo\"}], \"scattergl\": [{\"marker\": {\"colorbar\": {\"outlinewidth\": 0, \"ticks\": \"\"}}, \"type\": \"scattergl\"}], \"scattermapbox\": [{\"marker\": {\"colorbar\": {\"outlinewidth\": 0, \"ticks\": \"\"}}, \"type\": \"scattermapbox\"}], \"scatterpolar\": [{\"marker\": {\"colorbar\": {\"outlinewidth\": 0, \"ticks\": \"\"}}, \"type\": \"scatterpolar\"}], \"scatterpolargl\": [{\"marker\": {\"colorbar\": {\"outlinewidth\": 0, \"ticks\": \"\"}}, \"type\": \"scatterpolargl\"}], \"scatterternary\": [{\"marker\": {\"colorbar\": {\"outlinewidth\": 0, \"ticks\": \"\"}}, \"type\": \"scatterternary\"}], \"surface\": [{\"colorbar\": {\"outlinewidth\": 0, \"ticks\": \"\"}, \"colorscale\": [[0.0, \"#0d0887\"], [0.1111111111111111, \"#46039f\"], [0.2222222222222222, \"#7201a8\"], [0.3333333333333333, \"#9c179e\"], [0.4444444444444444, \"#bd3786\"], [0.5555555555555556, \"#d8576b\"], [0.6666666666666666, \"#ed7953\"], [0.7777777777777778, \"#fb9f3a\"], [0.8888888888888888, \"#fdca26\"], [1.0, \"#f0f921\"]], \"type\": \"surface\"}], \"table\": [{\"cells\": {\"fill\": {\"color\": \"#EBF0F8\"}, \"line\": {\"color\": \"white\"}}, \"header\": {\"fill\": {\"color\": \"#C8D4E3\"}, \"line\": {\"color\": \"white\"}}, \"type\": \"table\"}]}, \"layout\": {\"annotationdefaults\": {\"arrowcolor\": \"#2a3f5f\", \"arrowhead\": 0, \"arrowwidth\": 1}, \"coloraxis\": {\"colorbar\": {\"outlinewidth\": 0, \"ticks\": \"\"}}, \"colorscale\": {\"diverging\": [[0, \"#8e0152\"], [0.1, \"#c51b7d\"], [0.2, \"#de77ae\"], [0.3, \"#f1b6da\"], [0.4, \"#fde0ef\"], [0.5, \"#f7f7f7\"], [0.6, \"#e6f5d0\"], [0.7, \"#b8e186\"], [0.8, \"#7fbc41\"], [0.9, \"#4d9221\"], [1, \"#276419\"]], \"sequential\": [[0.0, \"#0d0887\"], [0.1111111111111111, \"#46039f\"], [0.2222222222222222, \"#7201a8\"], [0.3333333333333333, \"#9c179e\"], [0.4444444444444444, \"#bd3786\"], [0.5555555555555556, \"#d8576b\"], [0.6666666666666666, \"#ed7953\"], [0.7777777777777778, \"#fb9f3a\"], [0.8888888888888888, \"#fdca26\"], [1.0, \"#f0f921\"]], \"sequentialminus\": [[0.0, \"#0d0887\"], [0.1111111111111111, \"#46039f\"], [0.2222222222222222, \"#7201a8\"], [0.3333333333333333, \"#9c179e\"], [0.4444444444444444, \"#bd3786\"], [0.5555555555555556, \"#d8576b\"], [0.6666666666666666, \"#ed7953\"], [0.7777777777777778, \"#fb9f3a\"], [0.8888888888888888, \"#fdca26\"], [1.0, \"#f0f921\"]]}, \"colorway\": [\"#636efa\", \"#EF553B\", \"#00cc96\", \"#ab63fa\", \"#FFA15A\", \"#19d3f3\", \"#FF6692\", \"#B6E880\", \"#FF97FF\", \"#FECB52\"], \"font\": {\"color\": \"#2a3f5f\"}, \"geo\": {\"bgcolor\": \"white\", \"lakecolor\": \"white\", \"landcolor\": \"#E5ECF6\", \"showlakes\": true, \"showland\": true, \"subunitcolor\": \"white\"}, \"hoverlabel\": {\"align\": \"left\"}, \"hovermode\": \"closest\", \"mapbox\": {\"style\": \"light\"}, \"paper_bgcolor\": \"white\", \"plot_bgcolor\": \"#E5ECF6\", \"polar\": {\"angularaxis\": {\"gridcolor\": \"white\", \"linecolor\": \"white\", \"ticks\": \"\"}, \"bgcolor\": \"#E5ECF6\", \"radialaxis\": {\"gridcolor\": \"white\", \"linecolor\": \"white\", \"ticks\": \"\"}}, \"scene\": {\"xaxis\": {\"backgroundcolor\": \"#E5ECF6\", \"gridcolor\": \"white\", \"gridwidth\": 2, \"linecolor\": \"white\", \"showbackground\": true, \"ticks\": \"\", \"zerolinecolor\": \"white\"}, \"yaxis\": {\"backgroundcolor\": \"#E5ECF6\", \"gridcolor\": \"white\", \"gridwidth\": 2, \"linecolor\": \"white\", \"showbackground\": true, \"ticks\": \"\", \"zerolinecolor\": \"white\"}, \"zaxis\": {\"backgroundcolor\": \"#E5ECF6\", \"gridcolor\": \"white\", \"gridwidth\": 2, \"linecolor\": \"white\", \"showbackground\": true, \"ticks\": \"\", \"zerolinecolor\": \"white\"}}, \"shapedefaults\": {\"line\": {\"color\": \"#2a3f5f\"}}, \"ternary\": {\"aaxis\": {\"gridcolor\": \"white\", \"linecolor\": \"white\", \"ticks\": \"\"}, \"baxis\": {\"gridcolor\": \"white\", \"linecolor\": \"white\", \"ticks\": \"\"}, \"bgcolor\": \"#E5ECF6\", \"caxis\": {\"gridcolor\": \"white\", \"linecolor\": \"white\", \"ticks\": \"\"}}, \"title\": {\"x\": 0.05}, \"xaxis\": {\"automargin\": true, \"gridcolor\": \"white\", \"linecolor\": \"white\", \"ticks\": \"\", \"title\": {\"standoff\": 15}, \"zerolinecolor\": \"white\", \"zerolinewidth\": 2}, \"yaxis\": {\"automargin\": true, \"gridcolor\": \"white\", \"linecolor\": \"white\", \"ticks\": \"\", \"title\": {\"standoff\": 15}, \"zerolinecolor\": \"white\", \"zerolinewidth\": 2}}}},\n",
              "                        {\"responsive\": true}\n",
              "                    ).then(function(){\n",
              "                            \n",
              "var gd = document.getElementById('54cf79c5-da88-4c4a-bfe9-6d277836c27d');\n",
              "var x = new MutationObserver(function (mutations, observer) {{\n",
              "        var display = window.getComputedStyle(gd).display;\n",
              "        if (!display || display === 'none') {{\n",
              "            console.log([gd, 'removed!']);\n",
              "            Plotly.purge(gd);\n",
              "            observer.disconnect();\n",
              "        }}\n",
              "}});\n",
              "\n",
              "// Listen for the removal of the full notebook cells\n",
              "var notebookContainer = gd.closest('#notebook-container');\n",
              "if (notebookContainer) {{\n",
              "    x.observe(notebookContainer, {childList: true});\n",
              "}}\n",
              "\n",
              "// Listen for the clearing of the current output cell\n",
              "var outputEl = gd.closest('.output');\n",
              "if (outputEl) {{\n",
              "    x.observe(outputEl, {childList: true});\n",
              "}}\n",
              "\n",
              "                        })\n",
              "                };\n",
              "                \n",
              "            </script>\n",
              "        </div>\n",
              "</body>\n",
              "</html>"
            ]
          },
          "metadata": {
            "tags": []
          }
        }
      ]
    },
    {
      "cell_type": "markdown",
      "metadata": {
        "id": "P1LMUQumJnwf"
      },
      "source": [
        "## **3.**"
      ]
    },
    {
      "cell_type": "code",
      "metadata": {
        "colab": {
          "base_uri": "https://localhost:8080/"
        },
        "id": "qIJZOsCiJnC8",
        "outputId": "1f1b21c2-67c5-47fc-e9bf-a07911d5697d"
      },
      "source": [
        "tempFaltuDict={}\n",
        "q3List=[]\n",
        "while (len(q3List)<31):\n",
        "  i=random.randint(0,len(retweetText))\n",
        "  if i in tempFaltuDict:\n",
        "    continue\n",
        "  else:\n",
        "    q3List.append(retweetText[i])\n",
        "    tempFaltuDict[i]=True\n",
        "\n",
        "for i in q3List:\n",
        "  print(i)\n"
      ],
      "execution_count": null,
      "outputs": [
        {
          "output_type": "stream",
          "text": [
            "@DCPWestDelhi Jail Road from Tilak Nagar to Hari Nagar has been taken over by shopkeepers and parking.  75-80 pct o… https://t.co/92JLDBD7Sm\n",
            "@Dranandking @anubhavkhanduri @PMOIndia @News18UP @ChaubeyMeena @DCPWestDelhi for necessary action and to inform the complainant.\n",
            "@varungulati84 @DCPWestDelhi @DCPWestDelhi for necessary action. Thanks for contacting Delhi Police.\n",
            "Death of SI Ramlal is a tragic loss both to his family as well as Delhi Police. He was a sincere  and dedicated off… https://t.co/A0dk5qJE8u\n",
            "DJ playing around A3 block and Asalatpur Village, Janakpuri (a residential area) till 12:40am. Wondering what the… https://t.co/6x7VZWZTi9\n",
            "@DCPWestDelhi @ArvindKejriwal  this is how encroachment in govt land is being done brazenly...\n",
            "Rama Road industrial… https://t.co/Kpk19tKlpK\n",
            "Mr. SHO Inderpuri I request you to please  visit  E Block Bada Park Near  Gas Filling Shop, every night group of bo… https://t.co/UbTmeRv366\n",
            "@DelhiPolice @vshankarsingh @ArvindKejriwal @lgdelhi @DCPWestDelhi please consider it.\n",
            "Thank you for contacting DCP/Dwarka.\n",
            "@DCPWestDelhi crackers still burning in the locality, Vikaspuri H-1 block\n",
            "@DPSKumarJi @CMODelhi @aajtak @sudhirchaudhary Your tweet is forwarded to DCP/West @DCPWestDelhi\n",
            "Thank you for cont… https://t.co/qlmKCWGcGf\n",
            "@LtGovDelhi @CPCB_OFFICIAL @DCPWestDelhi     People start bursting crackers in Vishnu Garden but no action by any authorities\n",
            "@IndianDiplomacy  \n",
            "कृपया यथाशीघ्र आवश्यक कार्यवाही करें।उपरोक्त paisha और पासपोर्ट उन्हें विदेशो में रोजगार देने का… https://t.co/84IOusImWk\n",
            "#Delhi Police\n",
            "\n",
            "After giving writen Complaint on 5th Dec.\n",
            "No response from #Kirtinagar \n",
            "PS\n",
            "\n",
            "No Response of Email to… https://t.co/vd29Tfum1d\n",
            "@_pankajmarwah for necessary action and to inform the complainant @DCPWestDelhi\n",
            "@DCPWestDelhi @CPDelhi @LtGovDelhi @HMOIndia Sirs, there has been a spate of burglaries in DDA MIG Flats/VATIKA Apa… https://t.co/3zi2b23U4h\n",
            "Need Heavy pruning of tress on Major Sudesh Kumar Marg in front of DDA Green MIG Flats and replace of Bus stop by P… https://t.co/vczfloQOga\n",
            "@DCPWestDelhi  sir help regarding   efir no 20460/2020 of police station paschim vihar east .the verification of ba… https://t.co/2TroD5oV2n\n",
            "बिंदापुर डीडीए फ्लैट A 184 से 6 लड़के मोबाइल और 5000 रुपए लेकर गाड़ी नंबर Dl-11C-7351 से फरार हो गए हैं अकेली 70 सा… https://t.co/VOJmfkOyfR\n",
            "@adv_aankit @ArvindKejriwal @narendramodi @CPDelhi @DCPWestDelhi for necessary action\n",
            "@DCPWestDelhi @HMOIndia @LtGovDelhi @CPDelhi @DelhiPolice Mr DCP\n",
            "\n",
            "The real test will be enforcing the ban on Diwaal… https://t.co/AAEBDeQfb6\n",
            "I hope @DelhiPolice and @DCPWestDelhi increases petroling on this route as a lot such incidents are increasing... a… https://t.co/TA0MIjN0EA\n",
            "@DCPWestDelhi Sir please look it to https://t.co/dgqNM7PJyk\n",
            "@DCPWestDelhi @CPDelhi @ANI @DelhiPolice Kindly do some encroachment removal on outer ring road . Keshopur mandi to… https://t.co/h5q5VjQuuP\n",
            "@madan0852 @CPDelhi @DCPWestDelhi for necessary action\n",
            "@SubuhiKhan01 @DCP_CCC_Delhi @DCPWestDelhi for necessary action\n",
            "@CPDelhi @DCP_CCC_Delhi @DelhiPolice @DCPWestDelhi bank fraud took place from my mothers account through netbanking, please help 🙏\n",
            "Please public ke upr juthe case dalne wale afsar ko suspend kia jaye na ki promotion di jaye sho anil sharma police… https://t.co/ieswaSpS8q\n",
            "क्या इस तरह की तलाशी हो रही है या एक धर्म विशेष के लोगों को भ्रमित, भडकाया जा रहा है. क्रप्या स्पष्ट कीजिए … https://t.co/C3xWXwvmpW\n",
            "Nobody wearing masks, next Corona Hotspot in Kirti Nagar G Block, Kirti Nagar, @DCPWestDelhi @ArvindKejriwal… https://t.co/CPiz4WSqwH\n",
            "Please help me for justice.I have a family have 2 little daughters  we have nothing to survive. We can't survive th… https://t.co/9dsmRshdSK\n",
            "@Kannadanammamma @DCPWestDelhi for necessary action and to inform the complainant.\n"
          ],
          "name": "stdout"
        }
      ]
    },
    {
      "cell_type": "code",
      "metadata": {
        "id": "J5zJSOfELzC5"
      },
      "source": [
        "with open('/content/drive/MyDrive/PSOSMpvt/q3File.txt','w') as file:\n",
        "  for items in q3List:\n",
        "    file.write('%s\\n' %items)"
      ],
      "execution_count": null,
      "outputs": []
    }
  ]
}