{
 "nbformat": 4,
 "nbformat_minor": 0,
 "metadata": {
  "colab": {
   "name": "rishabh_2018303_3.ipynb",
   "provenance": []
  },
  "kernelspec": {
   "name": "python3",
   "display_name": "Python 3"
  }
 },
 "cells": [
  {
   "cell_type": "code",
   "metadata": {
    "id": "Q4If1bJ27uH0"
   },
   "source": [
    "import pandas as pd\n",
    "import matplotlib.pyplot as plt \n",
    "import re\n",
    "from tqdm.auto import tqdm\n",
    "import statistics"
   ],
   "execution_count": 1,
   "outputs": []
  },
  {
   "cell_type": "code",
   "metadata": {
    "colab": {
     "base_uri": "https://localhost:8080/"
    },
    "id": "rZ79QS3N2RMH",
    "outputId": "3ba58475-6a65-4948-f92a-9dcb28aaae90"
   },
   "source": [
    "social_df=pd.read_csv('/content/drive/MyDrive/midsemDatasets/IdentityResolution.csv',header=None,names=['name','twitter','facebook','insta'])\n",
    "print(social_df)"
   ],
   "execution_count": 2,
   "outputs": [
    {
     "output_type": "stream",
     "text": [
      "                             name  ...                               insta\n",
      "0    Alain Stephan Domnguez Lucas  ...   http://instagram.com/alainstephan\n",
      "1                     Alex Sablan  ...       http://instagram.com/a_sablan\n",
      "2                     Xavier Gass  ...      http://instagram.com/xavigasso\n",
      "3                    Nicole Lapin  ...    http://instagram.com/nicolelapin\n",
      "4                  Mattan Griffel  ...  http://instagram.com/mattangriffel\n",
      "..                            ...  ...                                 ...\n",
      "319                   Vasu Chawla  ...    https://instagram.com/vasuchawla\n",
      "320               Dayn Wilberding  ...           http://instagram.com/dayn\n",
      "321             Guillermo Navarro  ...      http://instagram.com/bildenlex\n",
      "322             Antonio J. Cuevas  ...   http://instagram.com/zeroneuronas\n",
      "323               Ghibril Ariadna  ...        http://instagram.com/ghibril\n",
      "\n",
      "[324 rows x 4 columns]\n"
     ],
     "name": "stdout"
    }
   ]
  },
  {
   "cell_type": "code",
   "metadata": {
    "id": "8nycqrCmXvUm"
   },
   "source": [
    "def removePunctuation(string):\n",
    "  punctuations = '''!()-[]{};:'\"\\,<>./?@#$%^&*_~'''\n",
    "  for x in string:\n",
    "    if x in punctuations:\n",
    "      string = string.replace(x, \"\")\n",
    "  return string"
   ],
   "execution_count": 3,
   "outputs": []
  },
  {
   "cell_type": "code",
   "metadata": {
    "id": "fO4cLoyJ8hwe"
   },
   "source": [
    "twitterNames=[]\n",
    "facebookNames=[]\n",
    "instaNames=[]\n",
    "for i in social_df.index:\n",
    "  twitterNames.append(removePunctuation(social_df.twitter[i].split('/')[-1].lower()))\n",
    "  facebookNames.append(removePunctuation(social_df.facebook[i].split('/')[-1].lower()))\n",
    "  instaNames.append(removePunctuation(social_df.insta[i].split('/')[-1].lower()))"
   ],
   "execution_count": 4,
   "outputs": []
  },
  {
   "cell_type": "code",
   "metadata": {
    "colab": {
     "base_uri": "https://localhost:8080/",
     "height": 424
    },
    "id": "IDuaH0OlWl4Z",
    "outputId": "c15dc39f-c355-493f-f55d-3cca21862aa9"
   },
   "source": [
    "social_df.drop(['twitter','facebook','insta'], axis = 1, inplace = True)\n",
    "social_df['twitter']=twitterNames\n",
    "social_df['facebook']=facebookNames\n",
    "social_df['insta']=instaNames\n",
    "social_df"
   ],
   "execution_count": 5,
   "outputs": [
    {
     "output_type": "execute_result",
     "data": {
      "text/html": [
       "<div>\n",
       "<style scoped>\n",
       "    .dataframe tbody tr th:only-of-type {\n",
       "        vertical-align: middle;\n",
       "    }\n",
       "\n",
       "    .dataframe tbody tr th {\n",
       "        vertical-align: top;\n",
       "    }\n",
       "\n",
       "    .dataframe thead th {\n",
       "        text-align: right;\n",
       "    }\n",
       "</style>\n",
       "<table border=\"1\" class=\"dataframe\">\n",
       "  <thead>\n",
       "    <tr style=\"text-align: right;\">\n",
       "      <th></th>\n",
       "      <th>name</th>\n",
       "      <th>twitter</th>\n",
       "      <th>facebook</th>\n",
       "      <th>insta</th>\n",
       "    </tr>\n",
       "  </thead>\n",
       "  <tbody>\n",
       "    <tr>\n",
       "      <th>0</th>\n",
       "      <td>Alain Stephan Domnguez Lucas</td>\n",
       "      <td>alainstephan</td>\n",
       "      <td>alainpato</td>\n",
       "      <td>alainstephan</td>\n",
       "    </tr>\n",
       "    <tr>\n",
       "      <th>1</th>\n",
       "      <td>Alex Sablan</td>\n",
       "      <td>alexsablancom</td>\n",
       "      <td>alexsablancom</td>\n",
       "      <td>asablan</td>\n",
       "    </tr>\n",
       "    <tr>\n",
       "      <th>2</th>\n",
       "      <td>Xavier Gass</td>\n",
       "      <td>xavigasso</td>\n",
       "      <td>xgasso</td>\n",
       "      <td>xavigasso</td>\n",
       "    </tr>\n",
       "    <tr>\n",
       "      <th>3</th>\n",
       "      <td>Nicole Lapin</td>\n",
       "      <td>nicolelapin</td>\n",
       "      <td>nicolelapin</td>\n",
       "      <td>nicolelapin</td>\n",
       "    </tr>\n",
       "    <tr>\n",
       "      <th>4</th>\n",
       "      <td>Mattan Griffel</td>\n",
       "      <td>mattangriffel</td>\n",
       "      <td>mattangriffel</td>\n",
       "      <td>mattangriffel</td>\n",
       "    </tr>\n",
       "    <tr>\n",
       "      <th>...</th>\n",
       "      <td>...</td>\n",
       "      <td>...</td>\n",
       "      <td>...</td>\n",
       "      <td>...</td>\n",
       "    </tr>\n",
       "    <tr>\n",
       "      <th>319</th>\n",
       "      <td>Vasu Chawla</td>\n",
       "      <td>vasuchawla</td>\n",
       "      <td>vasuchawla26</td>\n",
       "      <td>vasuchawla</td>\n",
       "    </tr>\n",
       "    <tr>\n",
       "      <th>320</th>\n",
       "      <td>Dayn Wilberding</td>\n",
       "      <td>dayn</td>\n",
       "      <td>daynw</td>\n",
       "      <td>dayn</td>\n",
       "    </tr>\n",
       "    <tr>\n",
       "      <th>321</th>\n",
       "      <td>Guillermo Navarro</td>\n",
       "      <td>bildenlex</td>\n",
       "      <td>drguillermonavarro</td>\n",
       "      <td>bildenlex</td>\n",
       "    </tr>\n",
       "    <tr>\n",
       "      <th>322</th>\n",
       "      <td>Antonio J. Cuevas</td>\n",
       "      <td>zeroneuronas</td>\n",
       "      <td>antoniojcuevas</td>\n",
       "      <td>zeroneuronas</td>\n",
       "    </tr>\n",
       "    <tr>\n",
       "      <th>323</th>\n",
       "      <td>Ghibril Ariadna</td>\n",
       "      <td>arighibril</td>\n",
       "      <td>ghibril</td>\n",
       "      <td>ghibril</td>\n",
       "    </tr>\n",
       "  </tbody>\n",
       "</table>\n",
       "<p>324 rows × 4 columns</p>\n",
       "</div>"
      ],
      "text/plain": [
       "                             name  ...          insta\n",
       "0    Alain Stephan Domnguez Lucas  ...   alainstephan\n",
       "1                     Alex Sablan  ...        asablan\n",
       "2                     Xavier Gass  ...      xavigasso\n",
       "3                    Nicole Lapin  ...    nicolelapin\n",
       "4                  Mattan Griffel  ...  mattangriffel\n",
       "..                            ...  ...            ...\n",
       "319                   Vasu Chawla  ...     vasuchawla\n",
       "320               Dayn Wilberding  ...           dayn\n",
       "321             Guillermo Navarro  ...      bildenlex\n",
       "322             Antonio J. Cuevas  ...   zeroneuronas\n",
       "323               Ghibril Ariadna  ...        ghibril\n",
       "\n",
       "[324 rows x 4 columns]"
      ]
     },
     "metadata": {
      "tags": []
     },
     "execution_count": 5
    }
   ]
  },
  {
   "cell_type": "code",
   "metadata": {
    "colab": {
     "base_uri": "https://localhost:8080/"
    },
    "id": "W8r7VxSdbKg5",
    "outputId": "37803b80-47fc-4180-a6b9-8c2b2e3ba48f"
   },
   "source": [
    "!pip install textdistance\n",
    "import textdistance"
   ],
   "execution_count": 6,
   "outputs": [
    {
     "output_type": "stream",
     "text": [
      "Collecting textdistance\n",
      "  Downloading https://files.pythonhosted.org/packages/2d/6d/a04e0ec4b82a2a554b44deb01cc5dcfa56502784a7af356b47f83906af91/textdistance-4.2.1-py3-none-any.whl\n",
      "Installing collected packages: textdistance\n",
      "Successfully installed textdistance-4.2.1\n"
     ],
     "name": "stdout"
    }
   ]
  },
  {
   "cell_type": "code",
   "metadata": {
    "id": "qS41XReUYHdb"
   },
   "source": [
    "simTwFaJaro=[]\n",
    "simFaInJaro=[]\n",
    "simTwInJaro=[]\n",
    "simTwFaRat=[]\n",
    "simFaInRat=[]\n",
    "simTwInRat=[]\n",
    "for i in social_df.index:\n",
    "  simTwFaRat.append(textdistance.ratcliff_obershelp(social_df.twitter[i],social_df.facebook[i]))\n",
    "  simTwFaJaro.append(textdistance.jaro_winkler(social_df.twitter[i],social_df.facebook[i]))\n",
    "  simFaInRat.append(textdistance.ratcliff_obershelp(social_df.insta[i],social_df.facebook[i]))\n",
    "  simFaInJaro.append(textdistance.jaro_winkler(social_df.insta[i],social_df.facebook[i]))\n",
    "  simTwInRat.append(textdistance.ratcliff_obershelp(social_df.insta[i],social_df.twitter[i]))\n",
    "  simTwInJaro.append(textdistance.jaro_winkler(social_df.insta[i],social_df.twitter[i]))"
   ],
   "execution_count": 7,
   "outputs": []
  },
  {
   "cell_type": "code",
   "metadata": {
    "colab": {
     "base_uri": "https://localhost:8080/",
     "height": 351
    },
    "id": "0gZ9YPMvkq2u",
    "outputId": "5af536d9-ffce-47d6-9be6-2f62a663ac38"
   },
   "source": [
    "arr=[0.0,0.1,0.2,0.3,0.4,0.5,0.6,0.7,0.8,0.9,1.0]\n",
    "plt.xlabel('Similarity')\n",
    "plt.ylabel('Count')\n",
    "plt.title('Ratcliff Obershelp (sequence based)similarity on Twitter-Facebook')\n",
    "plt.hist(simTwFaRat, bins=arr)"
   ],
   "execution_count": 8,
   "outputs": [
    {
     "output_type": "execute_result",
     "data": {
      "text/plain": [
       "(array([ 16.,  21.,  26.,  21.,  11.,  23.,  15.,  12.,  25., 154.]),\n",
       " array([0. , 0.1, 0.2, 0.3, 0.4, 0.5, 0.6, 0.7, 0.8, 0.9, 1. ]),\n",
       " <a list of 10 Patch objects>)"
      ]
     },
     "metadata": {
      "tags": []
     },
     "execution_count": 8
    },
    {
     "output_type": "display_data",
     "data": {
      "image/png": "[encoded data removed]",
      "text/plain": [
       "<Figure size 432x288 with 1 Axes>"
      ]
     },
     "metadata": {
      "tags": [],
      "needs_background": "light"
     }
    }
   ]
  },
  {
   "cell_type": "code",
   "metadata": {
    "colab": {
     "base_uri": "https://localhost:8080/",
     "height": 351
    },
    "id": "8DgQQtGvlE46",
    "outputId": "8a09e01d-9c37-4a12-a79b-a4d0ec551ff4"
   },
   "source": [
    "plt.xlabel('Similarity')\n",
    "plt.ylabel('Count')\n",
    "plt.title('Jaro Winkler (edit distance based)similarity on Twitter-Facebook')\n",
    "plt.hist(simTwFaJaro, bins=arr)"
   ],
   "execution_count": 9,
   "outputs": [
    {
     "output_type": "execute_result",
     "data": {
      "text/plain": [
       "(array([ 12.,   0.,   2.,   7.,  39.,  27.,  19.,  14.,  27., 177.]),\n",
       " array([0. , 0.1, 0.2, 0.3, 0.4, 0.5, 0.6, 0.7, 0.8, 0.9, 1. ]),\n",
       " <a list of 10 Patch objects>)"
      ]
     },
     "metadata": {
      "tags": []
     },
     "execution_count": 9
    },
    {
     "output_type": "display_data",
     "data": {
      "image/png": "[encoded data removed]",
      "text/plain": [
       "<Figure size 432x288 with 1 Axes>"
      ]
     },
     "metadata": {
      "tags": [],
      "needs_background": "light"
     }
    }
   ]
  },
  {
   "cell_type": "code",
   "metadata": {
    "colab": {
     "base_uri": "https://localhost:8080/",
     "height": 351
    },
    "id": "SlohLmjHlG_k",
    "outputId": "11bff795-82bb-4279-95e2-8d8c9d041861"
   },
   "source": [
    "plt.xlabel('Similarity')\n",
    "plt.ylabel('Count')\n",
    "plt.title('Ratcliff Obershelp (sequence based)similarity on Facebook-Instagram')\n",
    "plt.hist(simFaInRat, bins=arr)"
   ],
   "execution_count": 10,
   "outputs": [
    {
     "output_type": "execute_result",
     "data": {
      "text/plain": [
       "(array([ 13.,  19.,  25.,  16.,  11.,  25.,  17.,  14.,  24., 160.]),\n",
       " array([0. , 0.1, 0.2, 0.3, 0.4, 0.5, 0.6, 0.7, 0.8, 0.9, 1. ]),\n",
       " <a list of 10 Patch objects>)"
      ]
     },
     "metadata": {
      "tags": []
     },
     "execution_count": 10
    },
    {
     "output_type": "display_data",
     "data": {
      "image/png": "[encoded data removed]",
      "text/plain": [
       "<Figure size 432x288 with 1 Axes>"
      ]
     },
     "metadata": {
      "tags": [],
      "needs_background": "light"
     }
    }
   ]
  },
  {
   "cell_type": "code",
   "metadata": {
    "colab": {
     "base_uri": "https://localhost:8080/",
     "height": 351
    },
    "id": "8m8po2qPlH0s",
    "outputId": "5e082df5-a294-414d-e07f-398264b44f04"
   },
   "source": [
    "plt.xlabel('Similarity')\n",
    "plt.ylabel('Count')\n",
    "plt.title('Jaro Winkler (edit distance based)similarity on Facebook-Instagram')\n",
    "plt.hist(simFaInJaro, bins=arr)"
   ],
   "execution_count": 11,
   "outputs": [
    {
     "output_type": "execute_result",
     "data": {
      "text/plain": [
       "(array([ 12.,   0.,   2.,   6.,  34.,  24.,  19.,  15.,  28., 184.]),\n",
       " array([0. , 0.1, 0.2, 0.3, 0.4, 0.5, 0.6, 0.7, 0.8, 0.9, 1. ]),\n",
       " <a list of 10 Patch objects>)"
      ]
     },
     "metadata": {
      "tags": []
     },
     "execution_count": 11
    },
    {
     "output_type": "display_data",
     "data": {
      "image/png": "[encoded data removed]",
      "text/plain": [
       "<Figure size 432x288 with 1 Axes>"
      ]
     },
     "metadata": {
      "tags": [],
      "needs_background": "light"
     }
    }
   ]
  },
  {
   "cell_type": "code",
   "metadata": {
    "colab": {
     "base_uri": "https://localhost:8080/",
     "height": 351
    },
    "id": "RBF35WSIlJ1c",
    "outputId": "a04f6a8e-30b6-471f-e334-b5b7b6583ad5"
   },
   "source": [
    "plt.xlabel('Similarity')\n",
    "plt.ylabel('Count')\n",
    "plt.title('Ratcliff Obershelp (sequence based)similarity on Twitter-Instagram')\n",
    "plt.hist(simTwInRat, bins=arr)"
   ],
   "execution_count": 12,
   "outputs": [
    {
     "output_type": "execute_result",
     "data": {
      "text/plain": [
       "(array([ 12.,   8.,  16.,   8.,   7.,  10.,  12.,   7.,   9., 235.]),\n",
       " array([0. , 0.1, 0.2, 0.3, 0.4, 0.5, 0.6, 0.7, 0.8, 0.9, 1. ]),\n",
       " <a list of 10 Patch objects>)"
      ]
     },
     "metadata": {
      "tags": []
     },
     "execution_count": 12
    },
    {
     "output_type": "display_data",
     "data": {
      "image/png": "[encoded data removed]",
      "text/plain": [
       "<Figure size 432x288 with 1 Axes>"
      ]
     },
     "metadata": {
      "tags": [],
      "needs_background": "light"
     }
    }
   ]
  },
  {
   "cell_type": "code",
   "metadata": {
    "colab": {
     "base_uri": "https://localhost:8080/",
     "height": 351
    },
    "id": "-cTd-AyulKxD",
    "outputId": "7b47fd7f-b90c-415b-81ec-c8a5efdcdef0"
   },
   "source": [
    "plt.xlabel('Similarity')\n",
    "plt.ylabel('Count')\n",
    "plt.title('Jaro Winkler (edit distance based)similarity on Twitter-Instagram')\n",
    "plt.hist(simTwInJaro, bins=arr)"
   ],
   "execution_count": 13,
   "outputs": [
    {
     "output_type": "execute_result",
     "data": {
      "text/plain": [
       "(array([  9.,   0.,   0.,   4.,  19.,  17.,  10.,   9.,  15., 241.]),\n",
       " array([0. , 0.1, 0.2, 0.3, 0.4, 0.5, 0.6, 0.7, 0.8, 0.9, 1. ]),\n",
       " <a list of 10 Patch objects>)"
      ]
     },
     "metadata": {
      "tags": []
     },
     "execution_count": 13
    },
    {
     "output_type": "display_data",
     "data": {
      "image/png": "[encoded data removed]",
      "text/plain": [
       "<Figure size 432x288 with 1 Axes>"
      ]
     },
     "metadata": {
      "tags": [],
      "needs_background": "light"
     }
    }
   ]
  },
  {
   "cell_type": "code",
   "metadata": {
    "colab": {
     "base_uri": "https://localhost:8080/"
    },
    "id": "wFVeK2jm2N6t",
    "outputId": "ec19e86e-7add-4e3b-d5d4-2d71dac798da"
   },
   "source": [
    "print('The mean of Ratcliff Obershelp (sequence based)similarity on Twitter-Facebook is '+str(statistics.mean(simTwFaRat)))\n",
    "print('The standard deviation of Ratcliff Obershelp (sequence based)similarity on Twitter-Facebook is '+str(statistics.stdev(simTwFaRat)))\n",
    "print('The mean of Jaro Winkler (edit distance based) similarity on Twitter-Facebook is '+str(statistics.mean(simTwFaJaro)))\n",
    "print('The standard deviation of Jaro Winkler (edit distance based) similarity on Twitter-Facebook is '+str(statistics.stdev(simTwFaJaro)))"
   ],
   "execution_count": 14,
   "outputs": [
    {
     "output_type": "stream",
     "text": [
      "The mean of Ratcliff Obershelp (sequence based)similarity on Twitter-Facebook is 0.700988165113022\n",
      "The standard deviation of Ratcliff Obershelp (sequence based)similarity on Twitter-Facebook is 0.3391560783650944\n",
      "The mean of Jaro Winkler (edit distance based) similarity on Twitter-Facebook is 0.7931042250027888\n",
      "The standard deviation of Jaro Winkler (edit distance based) similarity on Twitter-Facebook is 0.2663221999961097\n"
     ],
     "name": "stdout"
    }
   ]
  },
  {
   "cell_type": "code",
   "metadata": {
    "colab": {
     "base_uri": "https://localhost:8080/"
    },
    "id": "PZNL2rAn3sqq",
    "outputId": "36b54ba9-37aa-42c4-8753-3afd02f61793"
   },
   "source": [
    "print('The mean of Ratcliff Obershelp (sequence based)similarity on Facebook-Instagram is '+str(statistics.mean(simFaInRat)))\n",
    "print('The standard deviation of Ratcliff Obershelp (sequence based)similarity on Facebook-Instagram is '+str(statistics.stdev(simFaInRat)))\n",
    "print('The mean of Jaro Winkler (edit distance based) similarity on Facebook-Instagram is '+str(statistics.mean(simFaInJaro)))\n",
    "print('The standard deviation of Jaro Winkler (edit distance based) similarity on Facebook-Instagram is '+str(statistics.stdev(simFaInJaro)))"
   ],
   "execution_count": 15,
   "outputs": [
    {
     "output_type": "stream",
     "text": [
      "The mean of Ratcliff Obershelp (sequence based)similarity on Facebook-Instagram is 0.7206362511972856\n",
      "The standard deviation of Ratcliff Obershelp (sequence based)similarity on Facebook-Instagram is 0.3279176755494043\n",
      "The mean of Jaro Winkler (edit distance based) similarity on Facebook-Instagram is 0.8067161922854186\n",
      "The standard deviation of Jaro Winkler (edit distance based) similarity on Facebook-Instagram is 0.2611728938309347\n"
     ],
     "name": "stdout"
    }
   ]
  },
  {
   "cell_type": "code",
   "metadata": {
    "colab": {
     "base_uri": "https://localhost:8080/"
    },
    "id": "-jhsqvom4DZM",
    "outputId": "6ec057c9-ce36-4bfc-866a-0460ff389eff"
   },
   "source": [
    "print('The mean of Ratcliff Obershelp (sequence based)similarity on Twitter-Instagram is '+str(statistics.mean(simTwInRat)))\n",
    "print('The standard deviation of Ratcliff Obershelp (sequence based)similarity on Twitter-Instagram is '+str(statistics.stdev(simTwInRat)))\n",
    "print('The mean of Jaro Winkler (edit distance based) similarity on Twitter-Instagram is '+str(statistics.mean(simTwInJaro)))\n",
    "print('The standard deviation of Jaro Winkler (edit distance based) similarity on Twitter-Instagram is '+str(statistics.stdev(simTwInJaro)))"
   ],
   "execution_count": 16,
   "outputs": [
    {
     "output_type": "stream",
     "text": [
      "The mean of Ratcliff Obershelp (sequence based)similarity on Twitter-Instagram is 0.8363071901277543\n",
      "The standard deviation of Ratcliff Obershelp (sequence based)similarity on Twitter-Instagram is 0.2945499470775639\n",
      "The mean of Jaro Winkler (edit distance based) similarity on Twitter-Instagram is 0.8833473676361294\n",
      "The standard deviation of Jaro Winkler (edit distance based) similarity on Twitter-Instagram is 0.2316370553971256\n"
     ],
     "name": "stdout"
    }
   ]
  }
 ]
}
