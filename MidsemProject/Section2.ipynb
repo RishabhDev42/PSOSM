{
 "nbformat": 4,
 "nbformat_minor": 0,
 "metadata": {
  "colab": {
   "name": "rishabh_2018303_1_2.ipynb",
   "provenance": [],
   "collapsed_sections": []
  },
  "kernelspec": {
   "name": "python3",
   "display_name": "Python 3"
  }
 },
 "cells": [
  {
   "cell_type": "code",
   "metadata": {
    "id": "pNnb0jHRcZM9"
   },
   "source": [
    "import pandas as pd\n",
    "import matplotlib.pyplot as plt "
   ],
   "execution_count": null,
   "outputs": []
  },
  {
   "cell_type": "code",
   "metadata": {
    "colab": {
     "base_uri": "https://localhost:8080/"
    },
    "id": "LhrB8apyccGA",
    "outputId": "826f4c4d-ead1-4094-920f-041f331a201a"
   },
   "source": [
    "from google.colab import drive\n",
    "drive.mount('/content/drive')\n",
    "reddit_df=pd.read_pickle('/content/drive/MyDrive/midsemDatasets/redditDataset.pkl')\n",
    "df_df=reddit_df.drop_duplicates()\n",
    "new=df_df.reset_index()\n",
    "new_new=new.drop(columns=['index'])\n",
    "reddit_df=new_new\n",
    "\n",
    "print(reddit_df)"
   ],
   "execution_count": null,
   "outputs": [
    {
     "output_type": "stream",
     "text": [
      "Drive already mounted at /content/drive; to attempt to forcibly remount, call drive.mount(\"/content/drive\", force_remount=True).\n",
      "                                                   text subreddit\n",
      "0     that sounds like the answer of a man who does ...     humor\n",
      "1     i always wonder what people get out of reposti...     humor\n",
      "2     fuck that  downvote them for stalking you in t...     humor\n",
      "3     seeing as how much this has been around  and a...     humor\n",
      "4     it took me a while to even get my legally requ...     humor\n",
      "...                                                 ...       ...\n",
      "3646  i would recommend anyone looking for a more de...      news\n",
      "3647  so much innuendo so little facts why so coy  i...      news\n",
      "3648   well mlk was black  and bernie is white also ...      news\n",
      "3649  a man intentionally kills animals and gets 50 ...      news\n",
      "3650  he is right he was part of the obstruction bac...      news\n",
      "\n",
      "[3651 rows x 2 columns]\n"
     ],
     "name": "stdout"
    }
   ]
  },
  {
   "cell_type": "code",
   "metadata": {
    "colab": {
     "base_uri": "https://localhost:8080/"
    },
    "id": "iR32xb9xcfEr",
    "outputId": "c23dbd71-2ba5-4e42-fcc5-aa3efeb3f9dc"
   },
   "source": [
    "X=reddit_df.loc[:,'text']\n",
    "print(X)"
   ],
   "execution_count": null,
   "outputs": [
    {
     "output_type": "stream",
     "text": [
      "0       that sounds like the answer of a man who does ...\n",
      "1       i always wonder what people get out of reposti...\n",
      "2       fuck that  downvote them for stalking you in t...\n",
      "3       seeing as how much this has been around  and a...\n",
      "4       it took me a while to even get my legally requ...\n",
      "                              ...                        \n",
      "3646    i would recommend anyone looking for a more de...\n",
      "3647    so much innuendo so little facts why so coy  i...\n",
      "3648     well mlk was black  and bernie is white also ...\n",
      "3649    a man intentionally kills animals and gets 50 ...\n",
      "3650    he is right he was part of the obstruction bac...\n",
      "Name: text, Length: 3651, dtype: object\n"
     ],
     "name": "stdout"
    }
   ]
  },
  {
   "cell_type": "code",
   "metadata": {
    "colab": {
     "base_uri": "https://localhost:8080/"
    },
    "id": "H3m8jBaBcq8B",
    "outputId": "32d5d7a6-b292-4db2-b873-6a1237015b7a"
   },
   "source": [
    "Y=reddit_df.loc[:,'subreddit']\n",
    "print(Y)"
   ],
   "execution_count": null,
   "outputs": [
    {
     "output_type": "stream",
     "text": [
      "0       humor\n",
      "1       humor\n",
      "2       humor\n",
      "3       humor\n",
      "4       humor\n",
      "        ...  \n",
      "3646     news\n",
      "3647     news\n",
      "3648     news\n",
      "3649     news\n",
      "3650     news\n",
      "Name: subreddit, Length: 3651, dtype: object\n"
     ],
     "name": "stdout"
    }
   ]
  },
  {
   "cell_type": "code",
   "metadata": {
    "colab": {
     "base_uri": "https://localhost:8080/"
    },
    "id": "bzDsLE4tcwOn",
    "outputId": "db807a9c-36c7-4a4d-a829-784c40c3ba90"
   },
   "source": [
    "from sklearn.model_selection import train_test_split\n",
    "\n",
    "X_train, X_test, y_train, y_test = train_test_split(X, Y, test_size=0.30, random_state=42)\n",
    "print(X_train)\n",
    "print(y_train)"
   ],
   "execution_count": null,
   "outputs": [
    {
     "output_type": "stream",
     "text": [
      "328     islam is a religion of peace there s a piece o...\n",
      "1392    balance sheet is not the only one the matters ...\n",
      "2405    sanders campaign playing down their chances in...\n",
      "367     i just imagine a little kid yelling  mommy   r...\n",
      "3406    the thing about secondary labor markets  drugs...\n",
      "                              ...                        \n",
      "1130    where i live the local hunting club would be a...\n",
      "1294    that  s not really how we operate we need to d...\n",
      "860     totally understand  in my old restaurant we ha...\n",
      "3507    gt  kiribati has turned to the united arab emi...\n",
      "3174    on the peninsula  most kids are raised by nann...\n",
      "Name: text, Length: 2555, dtype: object\n",
      "328     humor\n",
      "1392    humor\n",
      "2405     news\n",
      "367     humor\n",
      "3406     news\n",
      "        ...  \n",
      "1130    humor\n",
      "1294    humor\n",
      "860     humor\n",
      "3507     news\n",
      "3174     news\n",
      "Name: subreddit, Length: 2555, dtype: object\n"
     ],
     "name": "stdout"
    }
   ]
  },
  {
   "cell_type": "code",
   "metadata": {
    "colab": {
     "base_uri": "https://localhost:8080/"
    },
    "id": "nzAsdx2Zc1DF",
    "outputId": "0ddcaedc-8f49-4e70-81be-b1d6b29a6a6c"
   },
   "source": [
    "import re\n",
    "import nltk \n",
    "nltk.download('stopwords')\n",
    "from nltk.corpus import stopwords\n",
    "from nltk.stem.porter import PorterStemmer\n",
    "corpus=[]\n",
    "length=3651\n",
    "for i in range(0,length):\n",
    "  review=re.sub('[^a-zA-Z]',' ',reddit_df.iloc[i]['text'])\n",
    "  review=review.lower()\n",
    "  review=review.split()\n",
    "  ps=PorterStemmer()\n",
    "  all_stopwords= stopwords.words('english')\n",
    "  all_stopwords.remove('not')\n",
    "  review=[ps.stem(word) for word in review if not word in set(all_stopwords)]\n",
    "  review=' '.join(review)\n",
    "  corpus.append(review)"
   ],
   "execution_count": null,
   "outputs": [
    {
     "output_type": "stream",
     "text": [
      "[nltk_data] Downloading package stopwords to /root/nltk_data...\n",
      "[nltk_data]   Package stopwords is already up-to-date!\n"
     ],
     "name": "stdout"
    }
   ]
  },
  {
   "cell_type": "code",
   "metadata": {
    "id": "NlT4WuAoc4h1"
   },
   "source": [
    "from sklearn.feature_extraction.text import CountVectorizer\n",
    "cv=CountVectorizer(max_features=1500)\n",
    "x=cv.fit_transform(corpus).toarray()\n",
    "y=reddit_df.iloc[:,-1].values"
   ],
   "execution_count": null,
   "outputs": []
  },
  {
   "cell_type": "code",
   "metadata": {
    "id": "F5B-JW3bc7_T"
   },
   "source": [
    "from sklearn.model_selection import train_test_split\n",
    "\n",
    "X_train, X_test, y_train, y_test= train_test_split(x, y, test_size=0.3, random_state=42)"
   ],
   "execution_count": null,
   "outputs": []
  },
  {
   "cell_type": "code",
   "metadata": {
    "colab": {
     "base_uri": "https://localhost:8080/"
    },
    "id": "8Zt89L8xdO0M",
    "outputId": "79378493-794f-4810-addd-62cbdb802dff"
   },
   "source": [
    "from sklearn.linear_model import LogisticRegression\n",
    "import pickle\n",
    "\n",
    "clf = LogisticRegression(random_state=0).fit(X_train, y_train)\n",
    "filename = 'finalized_model.sav'\n",
    "pickle.dump(clf, open(filename, 'wb'))\n",
    "y_pred_lr=clf.predict(X_test)\n",
    "print(y_pred_lr)"
   ],
   "execution_count": null,
   "outputs": [
    {
     "output_type": "stream",
     "text": [
      "['humor' 'news' 'news' ... 'humor' 'news' 'news']\n"
     ],
     "name": "stdout"
    }
   ]
  },
  {
   "cell_type": "code",
   "metadata": {
    "colab": {
     "base_uri": "https://localhost:8080/"
    },
    "id": "0HylpWwVdSbj",
    "outputId": "8a2929c3-f344-4a86-b93e-57131eded088"
   },
   "source": [
    "from sklearn.metrics import confusion_matrix,accuracy_score\n",
    "\n",
    "score=accuracy_score(y_test,y_pred_lr)\n",
    "print(score)"
   ],
   "execution_count": null,
   "outputs": [
    {
     "output_type": "stream",
     "text": [
      "0.7673357664233577\n"
     ],
     "name": "stdout"
    }
   ]
  },
  {
   "cell_type": "code",
   "metadata": {
    "colab": {
     "base_uri": "https://localhost:8080/"
    },
    "id": "vrpwdu_xdTJf",
    "outputId": "47942784-a9e6-4c26-ffae-1ced8e4fa3a4"
   },
   "source": [
    "from sklearn.metrics import f1_score\n",
    "\n",
    "f1=f1_score(y_test, y_pred_lr, average='macro')\n",
    "print(f1)"
   ],
   "execution_count": null,
   "outputs": [
    {
     "output_type": "stream",
     "text": [
      "0.7590704194026415\n"
     ],
     "name": "stdout"
    }
   ]
  },
  {
   "cell_type": "code",
   "metadata": {
    "colab": {
     "base_uri": "https://localhost:8080/"
    },
    "id": "mR47KF5vdbjw",
    "outputId": "71d2de3a-ffc3-48ff-a35e-ed867e3be87b"
   },
   "source": [
    "from sklearn.metrics import confusion_matrix\n",
    "\n",
    "cm=confusion_matrix(y_test,y_pred_lr)\n",
    "print(cm)"
   ],
   "execution_count": null,
   "outputs": [
    {
     "output_type": "stream",
     "text": [
      "[[319 153]\n",
      " [102 522]]\n"
     ],
     "name": "stdout"
    }
   ]
  },
  {
   "cell_type": "code",
   "metadata": {
    "colab": {
     "base_uri": "https://localhost:8080/"
    },
    "id": "E5XItxnQdfpc",
    "outputId": "40bff655-b44c-4559-d7e4-034955c76bb2"
   },
   "source": [
    "y_test_test=[]\n",
    "for i in y_test:\n",
    "  if (i=='news'):\n",
    "    y_test_test.append(1)\n",
    "  else:\n",
    "    y_test_test.append(0)\n",
    "\n",
    "\n",
    "y_pred_pred=[]\n",
    "for i in y_pred_lr:\n",
    "  if (i=='news'):\n",
    "    y_pred_pred.append(1)\n",
    "  else:\n",
    "    y_pred_pred.append(0)\n",
    "\n",
    "\n",
    "\n",
    "from sklearn.metrics import precision_score\n",
    "\n",
    "prec=precision_score(y_test_test,y_pred_pred)\n",
    "print(prec)"
   ],
   "execution_count": null,
   "outputs": [
    {
     "output_type": "stream",
     "text": [
      "0.7733333333333333\n"
     ],
     "name": "stdout"
    }
   ]
  },
  {
   "cell_type": "code",
   "metadata": {
    "colab": {
     "base_uri": "https://localhost:8080/"
    },
    "id": "vIVoIjCBdiAO",
    "outputId": "2f719acc-4e03-43e0-e2e6-0a0ca18ea293"
   },
   "source": [
    "from sklearn.metrics import recall_score\n",
    "\n",
    "rs=recall_score(y_test_test,y_pred_pred)\n",
    "print(rs)"
   ],
   "execution_count": null,
   "outputs": [
    {
     "output_type": "stream",
     "text": [
      "0.8365384615384616\n"
     ],
     "name": "stdout"
    }
   ]
  },
  {
   "cell_type": "code",
   "metadata": {
    "id": "_sWsGADQsmv4",
    "colab": {
     "base_uri": "https://localhost:8080/"
    },
    "outputId": "0e2a8d25-2e67-4435-d440-4d4075268292"
   },
   "source": [
    "arr_1=[]\n",
    "predicted=[]\n",
    "actual=[]\n",
    "index=[]\n",
    "true=[]\n",
    "for i in range(0,len(y_test)):\n",
    "  if(y_test[i]!=y_pred_lr[i]):\n",
    "    # arr_1.append(X_test[i])\n",
    "    # predicted.append(y_pred_lr[i])\n",
    "    # actual.append(y_test[i])\n",
    "    index.append(i)\n",
    "    if(len(index)==5):\n",
    "      break;\n",
    "print(index)\n",
    "\n",
    "for i in index:\n",
    "  print(reddit_df.iloc[i]['text'])\n",
    "\n"
   ],
   "execution_count": null,
   "outputs": [
    {
     "output_type": "stream",
     "text": [
      "[2, 5, 9, 15, 28]\n",
      "fuck that  downvote them for stalking you in the future  like when that car in front of you makes all the turns you re about to make \n",
      "i did the all the time with my wife texting is a waist of time if we are nt doing something together i have better shit to do with my time \n",
      "i wonder how many accidents have been caused by this  i ve come close a few times myself in the history of mankind  i  m willing to wager that  millions  of men have died from checking out a girl s ass \n",
      "who got laid off  him or his colleague  if the other guy still works there  your friend knows where the guy works  and can get ahold of him there plus since your friend is nt working  he has nothing better to do all day than to wait outside the guy s workplace  that is if he s being honest about it  which he is nt \n",
      "the first time i cleaned restrooms at my new job there was a massive pile of shit on the seat and floor of a woman s toilet it was also splattered all over the sink from them washing there hands the guy teaching me replied  now you know why i m gay \n"
     ],
     "name": "stdout"
    }
   ]
  },
  {
   "cell_type": "code",
   "metadata": {
    "colab": {
     "base_uri": "https://localhost:8080/"
    },
    "id": "_0_cggBc51sK",
    "outputId": "a866ddfe-e4ca-495c-a47b-80c955181db0"
   },
   "source": [
    "print(reddit_df.iloc[4]['text'])\n",
    "print(reddit_df.iloc[6]['text'])\n",
    "print(reddit_df.iloc[11]['text'])\n",
    "print(reddit_df.iloc[14]['text'])\n",
    "print(reddit_df.iloc[18]['text'])"
   ],
   "execution_count": 18,
   "outputs": [
    {
     "output_type": "stream",
     "text": [
      "it took me a while to even get my legally required health insurance because  apparently  the government did nt know i exist they could nt find anything about me in the damn system i have a driver s license  social security  i m registered to vote  i m registered for selective services  my fingerprints are on file with the coast guard for my merchant marine documents  how the fuck do you not have me on record  \n",
      "it would be funny if she was also a redditor and gives op a big fat f using that same marker \n",
      "who gives a flying fuck about columbine anymore  it was a fucking life time ago even the edgey cunts who thought the shooters were just cute and misunderstood have moved on for fucks sake\n",
      "he probably sold it for drug money why ca nt he contact his former colleague  i call bullshit on that let s just say if it was my game he would be forced to contact them he s probably just a lazy  worthless fuck that does nt deserve the life he has \n",
      "it s a bit dumbed down  but technically  by freeing up the ram  and killing off nonessential processes  you should have a more efficient power usage  not really a facepalm imo  every tech company dumbs things down for their customers \n"
     ],
     "name": "stdout"
    }
   ]
  }
 ]
}
